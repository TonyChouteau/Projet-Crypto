{
  "nbformat": 4,
  "nbformat_minor": 0,
  "metadata": {
    "colab": {
      "name": "Tp de crypto",
      "provenance": [],
      "collapsed_sections": [],
      "toc_visible": true
    },
    "kernelspec": {
      "name": "python3",
      "display_name": "Python 3"
    }
  },
  "cells": [
    {
      "cell_type": "markdown",
      "metadata": {
        "id": "xJo81WwGhXuG",
        "colab_type": "text"
      },
      "source": [
        "Tony Chouteau \n",
        "\n",
        "Info2\n",
        "\n",
        "2019 - 2020\n",
        "\n",
        "---\n",
        "\n",
        "Jupyter - Google Collab\n",
        "\n"
      ]
    },
    {
      "cell_type": "markdown",
      "metadata": {
        "id": "vcsKTLPeijlX",
        "colab_type": "text"
      },
      "source": [
        "#**Introduction**"
      ]
    },
    {
      "cell_type": "markdown",
      "metadata": {
        "id": "UIWn2WNZL83g",
        "colab_type": "text"
      },
      "source": [
        "####**Imports**"
      ]
    },
    {
      "cell_type": "code",
      "metadata": {
        "id": "6f0LaJGNMD1M",
        "colab_type": "code",
        "colab": {}
      },
      "source": [
        "import random as rand\n",
        "import sys\n",
        "import sympy as sy\n",
        "import time\n",
        "import copy\n",
        "#import math"
      ],
      "execution_count": 0,
      "outputs": []
    },
    {
      "cell_type": "markdown",
      "metadata": {
        "id": "2ihNglMlMpOe",
        "colab_type": "text"
      },
      "source": [
        "####**Définition**\n",
        "\n",
        "J'utilise la bibliothèque $sys$ pour augmenter le nombre maximum de récursion (utile pour la génération de très grands nombres premiers).\n",
        "\n",
        "J'utilise la bibliothèque $sympy$ pour l'ensemble de ses fonctions permettant de trouver, vérifier des nombres premiers, et donc tester mes algorithmes.\n",
        "\n",
        "J'utilise la bibliothèque $time$ pour mesurer la complexité temporelle réelle de mess algorithmes. J'en profite pour définir une fonction $millis()$ qui renvoie le nombre de millisecondes depuis \"epoch\", soit le *1er janvier 1970, 00:00:00 (UTC)*"
      ]
    },
    {
      "cell_type": "code",
      "metadata": {
        "id": "VZgq5fvIMokg",
        "colab_type": "code",
        "outputId": "83f25fcb-fe97-4927-ae16-13ec71b8ebbe",
        "colab": {
          "base_uri": "https://localhost:8080/",
          "height": 146
        }
      },
      "source": [
        "print(\"La version de python utilisé est :\", sys.version)\n",
        "print(\"\")\n",
        "\n",
        "limit = 10**7\n",
        "print(\"Nombre de récursions maximum définie à :\",limit)\n",
        "sys.setrecursionlimit(limit)\n",
        "print(\"\")\n",
        "\n",
        "millis = lambda: int(round(time.time() * 10**3))\n",
        "print(\"Milliseconde actuelle :\",millis())\n",
        "\n",
        "micro = lambda: int(round(time.time() * 10**6))\n",
        "print(\"MicroSeconde actuelle :\",micro())\n",
        "\n",
        "def displayPeriod(t):\n",
        "  if (t<10**3):\n",
        "    return (str(t)+\"µs\")\n",
        "  if (t<10**6):\n",
        "    return (str(t/10**3)+\"ms\")\n",
        "  else:\n",
        "    return (str(t/10**6)+\"s\")"
      ],
      "execution_count": 0,
      "outputs": [
        {
          "output_type": "stream",
          "text": [
            "La version de python utilisé est : 3.6.9 (default, Nov  7 2019, 10:44:02) \n",
            "[GCC 8.3.0]\n",
            "\n",
            "Nombre de récursions maximum définie à : 10000000\n",
            "\n",
            "Milliseconde actuelle : 1587401867651\n",
            "MicroSeconde actuelle : 1587401867650864\n"
          ],
          "name": "stdout"
        }
      ]
    },
    {
      "cell_type": "markdown",
      "metadata": {
        "id": "l8uIWsWoMNsp",
        "colab_type": "text"
      },
      "source": [
        "#**Partie 1 - Arithmétique dans Z et Z/nZ avec Python**"
      ]
    },
    {
      "cell_type": "markdown",
      "metadata": {
        "id": "v7_Div1pleo6",
        "colab_type": "text"
      },
      "source": [
        "##**Question 1**"
      ]
    },
    {
      "cell_type": "markdown",
      "metadata": {
        "id": "vs2ylrHRC-aP",
        "colab_type": "text"
      },
      "source": [
        "###**Euclide Simple**"
      ]
    },
    {
      "cell_type": "markdown",
      "metadata": {
        "id": "hx3ijtueDydF",
        "colab_type": "text"
      },
      "source": [
        "####**Définition**"
      ]
    },
    {
      "cell_type": "code",
      "metadata": {
        "id": "RpFZcUZCDL-M",
        "colab_type": "code",
        "colab": {}
      },
      "source": [
        "def euclideSimple(a, b):\n",
        "  assert (a > 0 and b > 0), \"a et b doivent être positifs\"\n",
        "  \n",
        "  if a < b:\n",
        "    a, b = b, a\n",
        "\n",
        "  a0, b0 = a, b\n",
        "  \n",
        "  while b:\n",
        "    a, b = b, a % b\n",
        "  \n",
        "  return a, a0//a, b0//a"
      ],
      "execution_count": 0,
      "outputs": []
    },
    {
      "cell_type": "markdown",
      "metadata": {
        "id": "FF5JRqfYDd5T",
        "colab_type": "text"
      },
      "source": [
        "####**Test**"
      ]
    },
    {
      "cell_type": "code",
      "metadata": {
        "id": "Hnk7L7U3Dm8b",
        "colab_type": "code",
        "outputId": "dc5121db-630a-4920-ed2a-b5bb38412e07",
        "colab": {
          "base_uri": "https://localhost:8080/",
          "height": 109
        }
      },
      "source": [
        "a = 60\n",
        "b = 45\n",
        "\n",
        "r, a0, b0 = euclideSimple(a, b)\n",
        "\n",
        "print(\"Le PGCD de\", a, \"et de\", b, \"est :\",r)\n",
        "print(\"\")\n",
        "print(\"Ainsi : \")\n",
        "print(a0, \"*\", r, \"=\", a)\n",
        "print(b0, \"*\", r, \"=\", b)"
      ],
      "execution_count": 0,
      "outputs": [
        {
          "output_type": "stream",
          "text": [
            "Le PGCD de 60 et de 45 est : 15\n",
            "\n",
            "Ainsi : \n",
            "4 * 15 = 60\n",
            "3 * 15 = 45\n"
          ],
          "name": "stdout"
        }
      ]
    },
    {
      "cell_type": "markdown",
      "metadata": {
        "id": "_D6RLOOQDCUL",
        "colab_type": "text"
      },
      "source": [
        "###**Euclide Étendu**"
      ]
    },
    {
      "cell_type": "markdown",
      "metadata": {
        "id": "jGy1-H-6D3Fs",
        "colab_type": "text"
      },
      "source": [
        "####**Définition**"
      ]
    },
    {
      "cell_type": "code",
      "metadata": {
        "id": "KQcSey0XlgOO",
        "colab_type": "code",
        "colab": {}
      },
      "source": [
        "def euclideEtendu(a, b):\n",
        "  assert type(a)==type(b), \"Les deux paramêtres doivent avoir le même type\"\n",
        "  \n",
        "  r, u, v, r0, u0, v0 = a, 1, 0, b, 0, 1\n",
        "  \n",
        "  while r0:\n",
        "    q = r//r0\n",
        "    r, u, v, r0, u0, v0 = r0, u0, v0, r-q*r0, u-q*u0, v-q*v0\n",
        "\n",
        "  return r, u, v"
      ],
      "execution_count": 0,
      "outputs": []
    },
    {
      "cell_type": "markdown",
      "metadata": {
        "id": "b7DleRc8DZRk",
        "colab_type": "text"
      },
      "source": [
        "####**Test**"
      ]
    },
    {
      "cell_type": "code",
      "metadata": {
        "id": "jErCICg3DRFi",
        "colab_type": "code",
        "outputId": "ca456c85-6845-44da-f63d-522b9503722b",
        "colab": {
          "base_uri": "https://localhost:8080/",
          "height": 109
        }
      },
      "source": [
        "a = 45\n",
        "b = 60\n",
        "\n",
        "r, u, v = euclideEtendu(a, b)\n",
        "\n",
        "print(\"Le PGCD de\", a, \"et de\", b, \"est :\",r)\n",
        "print(\"\")\n",
        "print(\"De plus : r=au+bv avec u =\",u,\" et v =\",v)\n",
        "print(\"\")\n",
        "print(r, \"=\", a, \"*\", u, \"+\", b, \"*\", v, \"=\", a*u, \"+\", b*v)"
      ],
      "execution_count": 0,
      "outputs": [
        {
          "output_type": "stream",
          "text": [
            "Le PGCD de 45 et de 60 est : 15\n",
            "\n",
            "De plus : r=au+bv avec u = -1  et v = 1\n",
            "\n",
            "15 = 45 * -1 + 60 * 1 = -45 + 60\n"
          ],
          "name": "stdout"
        }
      ]
    },
    {
      "cell_type": "markdown",
      "metadata": {
        "id": "POXMbjChyPah",
        "colab_type": "text"
      },
      "source": [
        "##**Question 2**"
      ]
    },
    {
      "cell_type": "markdown",
      "metadata": {
        "id": "SZz_1P4rESzN",
        "colab_type": "text"
      },
      "source": [
        "###**Inverse Modulaire**"
      ]
    },
    {
      "cell_type": "markdown",
      "metadata": {
        "id": "Ww7qh86aENtI",
        "colab_type": "text"
      },
      "source": [
        "####**Définition**"
      ]
    },
    {
      "cell_type": "code",
      "metadata": {
        "id": "3VcruhMeySiD",
        "colab_type": "code",
        "colab": {}
      },
      "source": [
        "def inverseMod(x, n):\n",
        "  r, u, _ = euclideEtendu(x, n)\n",
        "  \n",
        "  assert r==1, \"x et n doivent être premiers entre eux\" \n",
        "\n",
        "  return u%n"
      ],
      "execution_count": 0,
      "outputs": []
    },
    {
      "cell_type": "markdown",
      "metadata": {
        "id": "v_tT8R9jEQWd",
        "colab_type": "text"
      },
      "source": [
        "####**Test**"
      ]
    },
    {
      "cell_type": "code",
      "metadata": {
        "id": "k1qjxX_TElp8",
        "colab_type": "code",
        "outputId": "9cf609a3-32cb-4bfb-ac2b-f28b89e029d9",
        "colab": {
          "base_uri": "https://localhost:8080/",
          "height": 35
        }
      },
      "source": [
        "a = 23\n",
        "n = 29\n",
        "\n",
        "inv = inverseMod(a, n)\n",
        "\n",
        "print(\"L'inverse de\",a,\"modulo\",n,\"est :\",inv)"
      ],
      "execution_count": 0,
      "outputs": [
        {
          "output_type": "stream",
          "text": [
            "L'inverse de 23 modulo 29 est : 24\n"
          ],
          "name": "stdout"
        }
      ]
    },
    {
      "cell_type": "markdown",
      "metadata": {
        "id": "LP1KE7nqH27z",
        "colab_type": "text"
      },
      "source": [
        "##**Question 3**"
      ]
    },
    {
      "cell_type": "markdown",
      "metadata": {
        "id": "hSQK18_RH92j",
        "colab_type": "text"
      },
      "source": [
        "###**Exponentiation Rapide**"
      ]
    },
    {
      "cell_type": "markdown",
      "metadata": {
        "id": "gAX1d2wIIKB7",
        "colab_type": "text"
      },
      "source": [
        "####**Définition**"
      ]
    },
    {
      "cell_type": "code",
      "metadata": {
        "id": "0gC6nUxmFxZU",
        "colab_type": "code",
        "colab": {}
      },
      "source": [
        "def expoRapide(x, k, n=None):\n",
        "  if (k == -1 and n != None): #Inverse modulaire\n",
        "    return inverseMod(x,n)\n",
        "  if (k == 1):\n",
        "    if (n!=None):\n",
        "      return x%n\n",
        "    else:\n",
        "      return x\n",
        "  if (not k%2): # Paire\n",
        "    #print(x, k, k/2, k//2, type(k), \"paire\")\n",
        "    if (n!=None):\n",
        "      return expoRapide(x*x%n, k//2, n)%n\n",
        "    else:\n",
        "      return expoRapide(x*x, k//2, n)\n",
        "  if (k%2): # Impaire\n",
        "    #print(x, k, k/2, k//2, type(k), \"impaire\")\n",
        "    if (n!=None):\n",
        "      return x*expoRapide(x*x%n, (k-1)//2, n)%n\n",
        "    else:\n",
        "      return x*expoRapide(x*x, (k-1)//2, n)"
      ],
      "execution_count": 0,
      "outputs": []
    },
    {
      "cell_type": "code",
      "metadata": {
        "id": "1lFRUp6oC-Hu",
        "colab_type": "code",
        "colab": {}
      },
      "source": [
        ""
      ],
      "execution_count": 0,
      "outputs": []
    },
    {
      "cell_type": "markdown",
      "metadata": {
        "id": "529j9b6fKDiG",
        "colab_type": "text"
      },
      "source": [
        "####**Test**"
      ]
    },
    {
      "cell_type": "code",
      "metadata": {
        "id": "a2Aglnd9JQv4",
        "colab_type": "code",
        "outputId": "8561d0d5-848a-4992-ff4d-34cb78c703a2",
        "colab": {
          "base_uri": "https://localhost:8080/",
          "height": 35
        }
      },
      "source": [
        "x = 4\n",
        "k = 87\n",
        "\n",
        "r = expoRapide(x, k)\n",
        "\n",
        "print(x,\"à la puissance\",k,\"donne :\",r)"
      ],
      "execution_count": 0,
      "outputs": [
        {
          "output_type": "stream",
          "text": [
            "4 à la puissance 87 donne : 23945242826029513411849172299223580994042798784118784\n"
          ],
          "name": "stdout"
        }
      ]
    },
    {
      "cell_type": "markdown",
      "metadata": {
        "colab_type": "text",
        "id": "G1C7iBJCO-bU"
      },
      "source": [
        "##**Question 4**"
      ]
    },
    {
      "cell_type": "markdown",
      "metadata": {
        "colab_type": "text",
        "id": "4iUdNGOfO-bY"
      },
      "source": [
        "###**IntegerModRing**\n",
        "\n",
        "Utilisant Jupyter je n'ai pas accès à l'objet $IntegerModRing$ de SAGE, je ne peux donc pas proposer d'études temporelle.\n",
        "\n",
        "\n",
        "Je l'ai tout de même re-créé en utilisant mes méthodes."
      ]
    },
    {
      "cell_type": "markdown",
      "metadata": {
        "colab_type": "text",
        "id": "LlfCAHpyO-bb"
      },
      "source": [
        "####**Définition**"
      ]
    },
    {
      "cell_type": "code",
      "metadata": {
        "colab_type": "code",
        "id": "VcAyil47O-be",
        "colab": {}
      },
      "source": [
        "class IntegerModRing: #Z/nZ\n",
        "  \n",
        "  def __init__(self, n): # Constructeur : IntegerModRing(n)\n",
        "    self.n = n\n",
        "    self.__call__.n = self.n\n",
        "\n",
        "  class __call__: # Rendre l'objet \"Callable\" : A(x)\n",
        "      def __init__(self, x):\n",
        "        self.value = x % self.n\n",
        "      def __add__(self, a): # Redéfinition de la puissance\n",
        "        return (self.value+a) % self.n\n",
        "      def __mul__(self, multi): # Redéfinition de la multiplication\n",
        "        return (self.value * multi) % self.n\n",
        "      def __pow__(self, power): # Redéfinition de la puissance\n",
        "        return expoRapide(self.value, power, self.n)"
      ],
      "execution_count": 0,
      "outputs": []
    },
    {
      "cell_type": "markdown",
      "metadata": {
        "colab_type": "text",
        "id": "ieRCg6AEO-bt"
      },
      "source": [
        "####**Test**"
      ]
    },
    {
      "cell_type": "code",
      "metadata": {
        "colab_type": "code",
        "id": "hb0oLP31O-bw",
        "outputId": "299e792f-11a4-404b-d484-83c8c26ee534",
        "colab": {
          "base_uri": "https://localhost:8080/",
          "height": 256
        }
      },
      "source": [
        "x = 11\n",
        "k = 2\n",
        "\n",
        "n = 5\n",
        "\n",
        "print(\"A = IntegerModRing(\",n,\")\")\n",
        "A = IntegerModRing(n)\n",
        "print(\"\")\n",
        "\n",
        "r = A(x)+k\n",
        "print(\"Addition A(x)+k :\\n\",x,\"%\",n,\"=\",r)\n",
        "print(\"\")\n",
        "\n",
        "r = A(x)*k\n",
        "print(\"Multiplication A(x)**k :\\n\",x,\"*\",k,\"%\",n,\"=\",r)\n",
        "print(\"\")\n",
        "\n",
        "r = A(x)**k\n",
        "print(\"Puissance A(x)*k :\\n\",x,\"^\",k,\"%\",n,\"=\",r)\n",
        "print(\"\")\n",
        "\n",
        "r = A(x)**(-1)\n",
        "print(\"Inverse A(x)**(-1) :\\n\",x,\"^ -1 %\",n,\"=\",r)"
      ],
      "execution_count": 0,
      "outputs": [
        {
          "output_type": "stream",
          "text": [
            "A = IntegerModRing( 5 )\n",
            "\n",
            "Addition A(x)+k :\n",
            " 11 % 5 = 3\n",
            "\n",
            "Multiplication A(x)**k :\n",
            " 11 * 2 % 5 = 2\n",
            "\n",
            "Puissance A(x)*k :\n",
            " 11 ^ 2 % 5 = 1\n",
            "\n",
            "Inverse A(x)**(-1) :\n",
            " 11 ^ -1 % 5 = 1\n"
          ],
          "name": "stdout"
        }
      ]
    },
    {
      "cell_type": "markdown",
      "metadata": {
        "id": "DBnGIkCglwyV",
        "colab_type": "text"
      },
      "source": [
        "#**Partie 2 - Codage et Décodage**"
      ]
    },
    {
      "cell_type": "markdown",
      "metadata": {
        "id": "ABhgW1VEl3jz",
        "colab_type": "text"
      },
      "source": [
        "##**Question 1**"
      ]
    },
    {
      "cell_type": "markdown",
      "metadata": {
        "id": "bppegx38rhrD",
        "colab_type": "text"
      },
      "source": [
        "###**Alphabet et Dictionnaires**"
      ]
    },
    {
      "cell_type": "markdown",
      "metadata": {
        "id": "6S1x8G4Vmk-r",
        "colab_type": "text"
      },
      "source": [
        "####**Définition**"
      ]
    },
    {
      "cell_type": "code",
      "metadata": {
        "id": "P7-6wZ0JmBNj",
        "colab_type": "code",
        "colab": {}
      },
      "source": [
        "abc = \"$\\n abcdefghijklmnopqrstuvwxyzABCDEFGHIJKLMNOPQRSTUVWXYZ1234567890,.;:!?'()&%-+*/=@\"\n",
        "\n",
        "cDico = {abc[key]:key for key in range(len(abc))}\n",
        "dDico = {key:abc[key] for key in range(len(abc))}"
      ],
      "execution_count": 0,
      "outputs": []
    },
    {
      "cell_type": "markdown",
      "metadata": {
        "id": "PZKsvBrDmpK9",
        "colab_type": "text"
      },
      "source": [
        "####**Test**"
      ]
    },
    {
      "cell_type": "code",
      "metadata": {
        "id": "6py6-bP1mruA",
        "colab_type": "code",
        "outputId": "f24fbdd0-f1f9-4057-d35f-03eaa335dd1d",
        "colab": {
          "base_uri": "https://localhost:8080/",
          "height": 202
        }
      },
      "source": [
        "print(\"Début \\\"\",abc[0], \"-\", abc[1],\"\\\" Fin\")\n",
        "print(\"Tailles :\", len(abc), len(cDico), len(dDico))\n",
        "print(\"\")\n",
        "\n",
        "print(\"Alphabet :\",abc)\n",
        "print(\"\")\n",
        "print(\"Dico de codage :\",cDico)\n",
        "print(\"Dico de décodage :\",dDico)"
      ],
      "execution_count": 0,
      "outputs": [
        {
          "output_type": "stream",
          "text": [
            "Début \" $ - \n",
            " \" Fin\n",
            "Tailles : 82 82 82\n",
            "\n",
            "Alphabet : $\n",
            " abcdefghijklmnopqrstuvwxyzABCDEFGHIJKLMNOPQRSTUVWXYZ1234567890,.;:!?'()&%-+*/=@\n",
            "\n",
            "Dico de codage : {'$': 0, '\\n': 1, ' ': 2, 'a': 3, 'b': 4, 'c': 5, 'd': 6, 'e': 7, 'f': 8, 'g': 9, 'h': 10, 'i': 11, 'j': 12, 'k': 13, 'l': 14, 'm': 15, 'n': 16, 'o': 17, 'p': 18, 'q': 19, 'r': 20, 's': 21, 't': 22, 'u': 23, 'v': 24, 'w': 25, 'x': 26, 'y': 27, 'z': 28, 'A': 29, 'B': 30, 'C': 31, 'D': 32, 'E': 33, 'F': 34, 'G': 35, 'H': 36, 'I': 37, 'J': 38, 'K': 39, 'L': 40, 'M': 41, 'N': 42, 'O': 43, 'P': 44, 'Q': 45, 'R': 46, 'S': 47, 'T': 48, 'U': 49, 'V': 50, 'W': 51, 'X': 52, 'Y': 53, 'Z': 54, '1': 55, '2': 56, '3': 57, '4': 58, '5': 59, '6': 60, '7': 61, '8': 62, '9': 63, '0': 64, ',': 65, '.': 66, ';': 67, ':': 68, '!': 69, '?': 70, \"'\": 71, '(': 72, ')': 73, '&': 74, '%': 75, '-': 76, '+': 77, '*': 78, '/': 79, '=': 80, '@': 81}\n",
            "Dico de décodage : {0: '$', 1: '\\n', 2: ' ', 3: 'a', 4: 'b', 5: 'c', 6: 'd', 7: 'e', 8: 'f', 9: 'g', 10: 'h', 11: 'i', 12: 'j', 13: 'k', 14: 'l', 15: 'm', 16: 'n', 17: 'o', 18: 'p', 19: 'q', 20: 'r', 21: 's', 22: 't', 23: 'u', 24: 'v', 25: 'w', 26: 'x', 27: 'y', 28: 'z', 29: 'A', 30: 'B', 31: 'C', 32: 'D', 33: 'E', 34: 'F', 35: 'G', 36: 'H', 37: 'I', 38: 'J', 39: 'K', 40: 'L', 41: 'M', 42: 'N', 43: 'O', 44: 'P', 45: 'Q', 46: 'R', 47: 'S', 48: 'T', 49: 'U', 50: 'V', 51: 'W', 52: 'X', 53: 'Y', 54: 'Z', 55: '1', 56: '2', 57: '3', 58: '4', 59: '5', 60: '6', 61: '7', 62: '8', 63: '9', 64: '0', 65: ',', 66: '.', 67: ';', 68: ':', 69: '!', 70: '?', 71: \"'\", 72: '(', 73: ')', 74: '&', 75: '%', 76: '-', 77: '+', 78: '*', 79: '/', 80: '=', 81: '@'}\n"
          ],
          "name": "stdout"
        }
      ]
    },
    {
      "cell_type": "markdown",
      "metadata": {
        "colab_type": "text",
        "id": "kBsCxk4mnZJ6"
      },
      "source": [
        "##**Question 2**"
      ]
    },
    {
      "cell_type": "markdown",
      "metadata": {
        "id": "pBeutk4Kr7nz",
        "colab_type": "text"
      },
      "source": [
        "###**Encodage d'un bloc**"
      ]
    },
    {
      "cell_type": "markdown",
      "metadata": {
        "colab_type": "text",
        "id": "TJTzBdrmnZJ-"
      },
      "source": [
        "####**Définition**\n",
        "\n",
        "Remarque : Dans le cas d'un caractère inconnu, il est remplacé par le dernier caractère de l'alphabet, rajouté pour l'occasion : \"@\"."
      ]
    },
    {
      "cell_type": "code",
      "metadata": {
        "colab_type": "code",
        "id": "8qgnRb98nZKA",
        "colab": {}
      },
      "source": [
        "def encodageBloc(bloc):\n",
        "  \n",
        "  result = []\n",
        "  for c in bloc:\n",
        "    try:\n",
        "      result.append(cDico[c])\n",
        "    except KeyError:\n",
        "      result.append(len(abc)-1)\n",
        "\n",
        "  number = 0\n",
        "  for i in range(len(result)):\n",
        "    number += result[i]*len(abc)**i\n",
        "\n",
        "  return number"
      ],
      "execution_count": 0,
      "outputs": []
    },
    {
      "cell_type": "markdown",
      "metadata": {
        "colab_type": "text",
        "id": "ZPt5QPjXnZKH"
      },
      "source": [
        "####**Test**"
      ]
    },
    {
      "cell_type": "code",
      "metadata": {
        "colab_type": "code",
        "id": "pKyyErWznZKJ",
        "outputId": "4b52d8e6-8097-4144-ddb7-658743bb676c",
        "colab": {
          "base_uri": "https://localhost:8080/",
          "height": 72
        }
      },
      "source": [
        "msg = \"Hello World\"\n",
        "print(\"Le message est : \\\"\"+msg+\"\\\"\")\n",
        "\n",
        "print(\"\")\n",
        "cMsg = encodageBloc(msg)\n",
        "print(\"L'encodage du message donne :\", cMsg)"
      ],
      "execution_count": 0,
      "outputs": [
        {
          "output_type": "stream",
          "text": [
            "Le message est : \"Hello World\"\n",
            "\n",
            "L'encodage du message donne : 84856814622316789146\n"
          ],
          "name": "stdout"
        }
      ]
    },
    {
      "cell_type": "markdown",
      "metadata": {
        "id": "MsEJ8524zW1b",
        "colab_type": "text"
      },
      "source": [
        "##**Question 3**\n",
        "\n",
        "Pour une taille de bloc $P$, et un alphabet de taille $N$, le code numérique maximal d'un bloc est de $N^{P-1}$"
      ]
    },
    {
      "cell_type": "markdown",
      "metadata": {
        "colab_type": "text",
        "id": "6wo5yJTxxtLH"
      },
      "source": [
        "###**Décodage d'un bloc**"
      ]
    },
    {
      "cell_type": "markdown",
      "metadata": {
        "colab_type": "text",
        "id": "VlbKi3zFxtLN"
      },
      "source": [
        "####**Définition**\n",
        "\n",
        "Remarque : Une taille de bloc est nécessaire en paramètre pour connaitre la puissance maximale de l'encodage du dit-bloc."
      ]
    },
    {
      "cell_type": "code",
      "metadata": {
        "colab_type": "code",
        "id": "sz3mX-vOxtLP",
        "colab": {}
      },
      "source": [
        "def decodageBloc(bloc, maxChar=20):\n",
        "  assert maxChar<len(abc), \"Taille de bloc trop grande\"\n",
        "  assert bloc<(len(abc)**(maxChar)), \"Bloc non valide, valeur trop grande\"\n",
        "\n",
        "  result = []\n",
        "\n",
        "  reste = bloc\n",
        "  for i in range(maxChar-1, -1, -1):\n",
        "    if(reste >= len(abc)**i):\n",
        "      result.append(reste//(len(abc)**i))\n",
        "      reste = reste%(len(abc)**i)\n",
        "\n",
        "  msg = \"\"\n",
        "  for n in result:\n",
        "    try:\n",
        "      msg = dDico[n] + msg\n",
        "    except KeyError:\n",
        "      msg = \"@\" + msg\n",
        "\n",
        "  return msg"
      ],
      "execution_count": 0,
      "outputs": []
    },
    {
      "cell_type": "markdown",
      "metadata": {
        "colab_type": "text",
        "id": "N01S6-8GxtLZ"
      },
      "source": [
        "####**Test**\n",
        "\n",
        "Ajout d'un caractère avant le décodage : ajout d'un $len(dDico)$ (Afin d'être toujours en dehors de l'alphabet).\n",
        "\n",
        "*Il y a en effet deux \"@\" à la fin de la chaine obtenue après décodage*"
      ]
    },
    {
      "cell_type": "code",
      "metadata": {
        "colab_type": "code",
        "id": "AxM1tx-RxtLZ",
        "outputId": "38d7d5fa-755f-412d-9e48-3771821d642b",
        "colab": {
          "base_uri": "https://localhost:8080/",
          "height": 54
        }
      },
      "source": [
        "dMsg = decodageBloc(cMsg)\n",
        "print(\"Le decodage du message donne : \\\"\"+dMsg+\"\\\"\")\n",
        "print(\"                Vérification : \\\"\"+msg+\"\\\"\")"
      ],
      "execution_count": 0,
      "outputs": [
        {
          "output_type": "stream",
          "text": [
            "Le decodage du message donne : \"Hello World\"\n",
            "                Vérification : \"Hello World\"\n"
          ],
          "name": "stdout"
        }
      ]
    },
    {
      "cell_type": "markdown",
      "metadata": {
        "colab_type": "text",
        "id": "92Ibfff7Mt4k"
      },
      "source": [
        "##**Question 4**"
      ]
    },
    {
      "cell_type": "markdown",
      "metadata": {
        "colab_type": "text",
        "id": "N5ReBBq6Mt4q"
      },
      "source": [
        "###**Encodage d'un message entier**"
      ]
    },
    {
      "cell_type": "markdown",
      "metadata": {
        "colab_type": "text",
        "id": "6u4nGmgXMt4t"
      },
      "source": [
        "####**Définition**"
      ]
    },
    {
      "cell_type": "code",
      "metadata": {
        "colab_type": "code",
        "id": "v8XY3-9YMt4x",
        "colab": {}
      },
      "source": [
        "def encodage(msg, tailleBloc=20):\n",
        "  \n",
        "  encodedMsg = []\n",
        "\n",
        "  for i in range(0, len(msg), tailleBloc):\n",
        "    encodedMsg.append(encodageBloc(msg[i:i+tailleBloc]))\n",
        "\n",
        "  return encodedMsg"
      ],
      "execution_count": 0,
      "outputs": []
    },
    {
      "cell_type": "markdown",
      "metadata": {
        "colab_type": "text",
        "id": "iONbN9KqMt4_"
      },
      "source": [
        "####**Test**"
      ]
    },
    {
      "cell_type": "code",
      "metadata": {
        "colab_type": "code",
        "id": "NjkGIVWJMt5B",
        "outputId": "57935426-3135-44da-c339-72f9a2d0daef",
        "colab": {
          "base_uri": "https://localhost:8080/",
          "height": 92
        }
      },
      "source": [
        "msg = \"à Lorem ipsum dolor sit amet, consectetur adipiscing elit. Quisque egestas eget orci sit amet ullamcorper. Curabitur venenatis non nulla eu ullamcorper. Sed dignissim, libero sed sodales posuere, sapien enim eleifend nisi, sed fringilla turpis tortor sit amet nibh. Nam at arcu id massa aliquam tincidunt. Aliquam vulputate, sapien id pellentesque sodales, leo magna ullamcorper urna, non rutrum erat lorem nec justo. In varius mauris neque, at ultrices ipsum bibendum at. Aliquam vel molestie dolor, sed mattis nisl. Maecenas auctor quis tortor a placerat. Suspendisse lobortis pharetra nunc, eu iaculis justo tristique at. Morbi augue purus, elementum non posuere ac, pulvinar sit amet odio. Nulla vitae. \"\n",
        "print(\"Le message est : \\\"\"+msg+\"\\\"\")\n",
        "\n",
        "print(\"\")\n",
        "cMsg = encodage(msg)\n",
        "print(\"L'encodage du message complet donne :\", cMsg)"
      ],
      "execution_count": 0,
      "outputs": [
        {
          "output_type": "stream",
          "text": [
            "Le message est : \"à Lorem ipsum dolor sit amet, consectetur adipiscing elit. Quisque egestas eget orci sit amet ullamcorper. Curabitur venenatis non nulla eu ullamcorper. Sed dignissim, libero sed sodales posuere, sapien enim eleifend nisi, sed fringilla turpis tortor sit amet nibh. Nam at arcu id massa aliquam tincidunt. Aliquam vulputate, sapien id pellentesque sodales, leo magna ullamcorper urna, non rutrum erat lorem nec justo. In varius mauris neque, at ultrices ipsum bibendum at. Aliquam vel molestie dolor, sed mattis nisl. Maecenas auctor quis tortor a placerat. Suspendisse lobortis pharetra nunc, eu iaculis justo tristique at. Morbi augue purus, elementum non posuere ac, pulvinar sit amet odio. Nulla vitae. \"\n",
            "\n",
            "L'encodage du message complet donne : [5175605931744531058174221399946258109, 53610257152947054120140631808764154323, 103754296707586791015869521983086626148, 5228350774909902220910001040676773721, 11942020454605490003925893614395621093, 37067270445284418025584881230469766713, 5256417642582640138594432584140425971, 21046203441290090744071292200108415091, 48440130932442181632746831247165966690, 25849724390215334661042959011196887113, 48696402486977165699667620466441734983, 46731716203176765791746258476009466493, 5228375642159472433589559088719185980, 14133227429769840347395182686634237910, 25488885800952835386494976035228601780, 51338192262151771534994950334417622132, 16525459543287398865371970438434811187, 39367744079020222821707718308093586224, 53052723165804664832224089302575857156, 50776920939381217485713038035688805416, 37902889091551680466533168763783501682, 16780039454460655922937725338412846574, 5037209494825089269899732264685867361, 34650715401414879543775394333329661458, 150321162400312778823636688636178232766, 8064603810296504348990003203122421256, 50749185050154036929515462238005447373, 54311136523381455459856467057623603673, 41533594113036935758366559197939023285, 11607556100760479561838708569154361960, 16780056485985091538705815094286992583, 46730345860675906675829372308595459808, 39672747923897684528602346361672641557, 48444910900856704617692622269544623071, 4696941013398074923860390960090156871, 853019927550]\n"
          ],
          "name": "stdout"
        }
      ]
    },
    {
      "cell_type": "markdown",
      "metadata": {
        "colab_type": "text",
        "id": "VTskusqjRKd5"
      },
      "source": [
        "###**Décodage d'un message codé entier (soit une liste de blocs encodés)**"
      ]
    },
    {
      "cell_type": "markdown",
      "metadata": {
        "colab_type": "text",
        "id": "sy6e8P3oRKd_"
      },
      "source": [
        "####**Définition**"
      ]
    },
    {
      "cell_type": "code",
      "metadata": {
        "colab_type": "code",
        "id": "DCVzJaCqRKeC",
        "colab": {}
      },
      "source": [
        "def decodage(blocs, tailleBloc=20):\n",
        "  \n",
        "  decodedMsg = \"\"\n",
        "\n",
        "  for bloc in blocs:\n",
        "    decodedMsg += decodageBloc(bloc, tailleBloc)\n",
        "\n",
        "  return decodedMsg"
      ],
      "execution_count": 0,
      "outputs": []
    },
    {
      "cell_type": "markdown",
      "metadata": {
        "colab_type": "text",
        "id": "lj385kP6RKeP"
      },
      "source": [
        "####**Test**\n",
        "\n",
        "Remarque : Le caractère special \"à\" à été remplacé par un \"@\" comme prévu\n"
      ]
    },
    {
      "cell_type": "code",
      "metadata": {
        "colab_type": "code",
        "id": "niZUtm1PRKeR",
        "outputId": "cf1d3c30-2270-4d92-f490-923d3e560b18",
        "colab": {
          "base_uri": "https://localhost:8080/",
          "height": 74
        }
      },
      "source": [
        "dMsg = decodage(cMsg)\n",
        "print(\"Le decodage du message complet donne : \\\"\"+dMsg+\"\\\"\")\n",
        "print(\"                        Vérification : \\\"\"+msg+\"\\\"\")"
      ],
      "execution_count": 0,
      "outputs": [
        {
          "output_type": "stream",
          "text": [
            "Le decodage du message complet donne : \"@ Lorem ipsum dolor sit amet, consectetur adipiscing elit. Quisque egestas eget orci sit amet ullamcorper. Curabitur venenatis non nulla eu ullamcorper. Sed dignissim, libero sed sodales posuere, sapien enim eleifend nisi, sed fringilla turpis tortor sit amet nibh. Nam at arcu id massa aliquam tincidunt. Aliquam vulputate, sapien id pellentesque sodales, leo magna ullamcorper urna, non rutrum erat lorem nec justo. In varius mauris neque, at ultrices ipsum bibendum at. Aliquam vel molestie dolor, sed mattis nisl. Maecenas auctor quis tortor a placerat. Suspendisse lobortis pharetra nunc, eu iaculis justo tristique at. Morbi augue purus, elementum non posuere ac, pulvinar sit amet odio. Nulla vitae. \"\n",
            "                        Vérification : \"à Lorem ipsum dolor sit amet, consectetur adipiscing elit. Quisque egestas eget orci sit amet ullamcorper. Curabitur venenatis non nulla eu ullamcorper. Sed dignissim, libero sed sodales posuere, sapien enim eleifend nisi, sed fringilla turpis tortor sit amet nibh. Nam at arcu id massa aliquam tincidunt. Aliquam vulputate, sapien id pellentesque sodales, leo magna ullamcorper urna, non rutrum erat lorem nec justo. In varius mauris neque, at ultrices ipsum bibendum at. Aliquam vel molestie dolor, sed mattis nisl. Maecenas auctor quis tortor a placerat. Suspendisse lobortis pharetra nunc, eu iaculis justo tristique at. Morbi augue purus, elementum non posuere ac, pulvinar sit amet odio. Nulla vitae. \"\n"
          ],
          "name": "stdout"
        }
      ]
    },
    {
      "cell_type": "markdown",
      "metadata": {
        "id": "ins3uihIUz4T",
        "colab_type": "text"
      },
      "source": [
        "#**Partie 3 - RSA**"
      ]
    },
    {
      "cell_type": "markdown",
      "metadata": {
        "id": "39S5oWvdVZ3r",
        "colab_type": "text"
      },
      "source": [
        "##**Question 1**"
      ]
    },
    {
      "cell_type": "markdown",
      "metadata": {
        "id": "6ocO99zoV0Pw",
        "colab_type": "text"
      },
      "source": [
        "###**Production des valeurs p, q et a**"
      ]
    },
    {
      "cell_type": "markdown",
      "metadata": {
        "id": "YQI6wk67KHnP",
        "colab_type": "text"
      },
      "source": [
        "####**Définition**"
      ]
    },
    {
      "cell_type": "code",
      "metadata": {
        "id": "_eb7vnSnYHo8",
        "colab_type": "code",
        "colab": {}
      },
      "source": [
        "def bobPrive(min=10**19, max=10**20):\n",
        "\n",
        "  p, q = 0, 0\n",
        "  while q==p:\n",
        "    p, q = sy.randprime(min, max), sy.randprime(min, max)\n",
        "\n",
        "  assert (min>0 and max > min), \"Le paramêtre min doit être supérieur à 0 et max doit être supérieur à min\"\n",
        "\n",
        "  a, r = p, 0\n",
        "  while r!=1:\n",
        "    a = rand.randint(min, (p-1)*(q-1)-1)\n",
        "    r, _, _ = euclideSimple(a, (p-1)*(q-1))\n",
        "  \n",
        "  return p, q, a"
      ],
      "execution_count": 0,
      "outputs": []
    },
    {
      "cell_type": "markdown",
      "metadata": {
        "id": "GsQS9zw-KZ9O",
        "colab_type": "text"
      },
      "source": [
        "####**Test**"
      ]
    },
    {
      "cell_type": "markdown",
      "metadata": {
        "colab_type": "text",
        "id": "q2KeLweTdxVC"
      },
      "source": [
        "#####**Partie Privé**\n",
        "\n",
        "Si $power>14$, la fonction factor va devenir très chronophage."
      ]
    },
    {
      "cell_type": "code",
      "metadata": {
        "colab_type": "code",
        "id": "80-7yeV0dxVG",
        "outputId": "cba2a3b4-c884-456e-cb3f-1d850dadb5cf",
        "colab": {
          "base_uri": "https://localhost:8080/",
          "height": 109
        }
      },
      "source": [
        "power = 19\n",
        "\n",
        "q, p, a = bobPrive(10**power, 10**(power+1))\n",
        "print(\"Bob produit 2 nombres premiers :\")\n",
        "print(\"p =\",p,\"et q =\",q)\n",
        "print(\"\")\n",
        "\n",
        "print(\"Bob produit un nombre aléatoire premier avec phi(n)=(p-1)(q-1) :\")\n",
        "print(\"a =\",a)"
      ],
      "execution_count": 0,
      "outputs": [
        {
          "output_type": "stream",
          "text": [
            "Bob produit 2 nombres premiers :\n",
            "p = 94528508018390573417 et q = 72362655780662709601\n",
            "\n",
            "Bob produit un nombre aléatoire premier avec phi(n)=(p-1)(q-1) :\n",
            "a = 356663546924846595029649766226155769309\n"
          ],
          "name": "stdout"
        }
      ]
    },
    {
      "cell_type": "markdown",
      "metadata": {
        "id": "b4dlEe-NtoxO",
        "colab_type": "text"
      },
      "source": [
        "#####**Partie Public**"
      ]
    },
    {
      "cell_type": "code",
      "metadata": {
        "id": "_uislbwAtkb1",
        "colab_type": "code",
        "outputId": "1152b641-6db3-427f-ff06-cf518fd262d0",
        "colab": {
          "base_uri": "https://localhost:8080/",
          "height": 109
        }
      },
      "source": [
        "n = p*q\n",
        "print(\"Bob publie n=pq :\")\n",
        "print(\"n =\",n)\n",
        "print(\"\")\n",
        "\n",
        "b = inverseMod(a, (p-1)*(q-1))\n",
        "print(\"Bob publie l'inverse de a modulo phi(n) :\")\n",
        "print(\"b =\",b)"
      ],
      "execution_count": 0,
      "outputs": [
        {
          "output_type": "stream",
          "text": [
            "Bob publie n=pq :\n",
            "n = 6840333887194411923603182317831341276617\n",
            "\n",
            "Bob publie l'inverse de a modulo phi(n) :\n",
            "b = 3600195712633119537772004031213740617589\n"
          ],
          "name": "stdout"
        }
      ]
    },
    {
      "cell_type": "markdown",
      "metadata": {
        "id": "9vlgxxTxvwHW",
        "colab_type": "text"
      },
      "source": [
        "#####**Factor()**\n",
        "\n",
        "La fonction utilisé ici est la fonction $primefactors(n)$ de la bibliothèque Sympy, le calcul est très chronophage pour des valeurs supérieures à $10^{15}$ (cf : Partie Privé/Test)\n",
        "\n",
        "On remarque qu'il y a l'air d'y avoir que 2 facteurs premiers."
      ]
    },
    {
      "cell_type": "code",
      "metadata": {
        "id": "c3l4LRDnvw-l",
        "colab_type": "code",
        "outputId": "cb96c4ef-eee4-4980-e560-bcf7a02f2e32",
        "colab": {
          "base_uri": "https://localhost:8080/",
          "height": 54
        }
      },
      "source": [
        "power = 14\n",
        "q, p, a = bobPrive(10**power, 10**(power+1))\n",
        "n = p*q\n",
        "print(p,q)\n",
        "\n",
        "if (power <= 15):\n",
        "  l = sy.primefactors(n)\n",
        "  print(l)\n",
        "else:\n",
        "  print(\"La valeur power est trop haute, le calcul durerait trop longtemps\")"
      ],
      "execution_count": 0,
      "outputs": [
        {
          "output_type": "stream",
          "text": [
            "934263701871971 808037973730219\n",
            "[808037973730219, 934263701871971]\n"
          ],
          "name": "stdout"
        }
      ]
    },
    {
      "cell_type": "markdown",
      "metadata": {
        "colab_type": "text",
        "id": "FaN9NRh8vKno"
      },
      "source": [
        "##**Question 2**"
      ]
    },
    {
      "cell_type": "markdown",
      "metadata": {
        "id": "MMR6IhjfG-wL",
        "colab_type": "text"
      },
      "source": [
        "###**Obtention la taille du bloc**"
      ]
    },
    {
      "cell_type": "markdown",
      "metadata": {
        "id": "i7agD0y5KQ2Z",
        "colab_type": "text"
      },
      "source": [
        "####**Définition**"
      ]
    },
    {
      "cell_type": "code",
      "metadata": {
        "id": "SErNdCcdG-MO",
        "colab_type": "code",
        "colab": {}
      },
      "source": [
        "def tailleBlocMax(n):\n",
        "\n",
        "  tailleBloc = 0\n",
        "  while len(abc)**(tailleBloc+1)<n:\n",
        "    tailleBloc+=1\n",
        "\n",
        "  return tailleBloc"
      ],
      "execution_count": 0,
      "outputs": []
    },
    {
      "cell_type": "markdown",
      "metadata": {
        "id": "ozazRbx-HnpR",
        "colab_type": "text"
      },
      "source": [
        "####**Test**"
      ]
    },
    {
      "cell_type": "code",
      "metadata": {
        "id": "kzx3WfFbH53x",
        "colab_type": "code",
        "outputId": "56a133e1-22d5-4125-be5e-773692bed848",
        "colab": {
          "base_uri": "https://localhost:8080/",
          "height": 35
        }
      },
      "source": [
        "print(\"Pour n =\",n,\", la taille du bloc est de maximum :\",tailleBlocMax(n))"
      ],
      "execution_count": 0,
      "outputs": [
        {
          "output_type": "stream",
          "text": [
            "Pour n = 703151625286020377226436486973687412359 , la taille du bloc est de maximum : 20\n"
          ],
          "name": "stdout"
        }
      ]
    },
    {
      "cell_type": "markdown",
      "metadata": {
        "colab_type": "text",
        "id": "JKIucm7_vKnu"
      },
      "source": [
        "###**Chiffrement RSA d'un simple bloc**"
      ]
    },
    {
      "cell_type": "markdown",
      "metadata": {
        "id": "ztyvbIxjKS28",
        "colab_type": "text"
      },
      "source": [
        "####**Définition**"
      ]
    },
    {
      "cell_type": "code",
      "metadata": {
        "colab_type": "code",
        "id": "ha1e98THvKnv",
        "colab": {}
      },
      "source": [
        "def chiffrementRSA(x, n, b):\n",
        "  assert x<n, \"x doit être inférieur à n\"\n",
        "\n",
        "  return expoRapide(x, b, n)"
      ],
      "execution_count": 0,
      "outputs": []
    },
    {
      "cell_type": "markdown",
      "metadata": {
        "id": "r9FXFAxTIb2H",
        "colab_type": "text"
      },
      "source": [
        "####**Test**"
      ]
    },
    {
      "cell_type": "code",
      "metadata": {
        "id": "GRfNqSyQFrFv",
        "colab_type": "code",
        "outputId": "1993ccc9-76fc-4f38-98e1-d3b22eb01b26",
        "colab": {
          "base_uri": "https://localhost:8080/",
          "height": 35
        }
      },
      "source": [
        "msg = \"HelloWorld\"\n",
        "cMsg = encodageBloc(msg)\n",
        "rsa = chiffrementRSA(cMsg, n, b)\n",
        "print(\"Le message \\\"\"+msg+\"\\\" à été chiffré :\",rsa)"
      ],
      "execution_count": 0,
      "outputs": [
        {
          "output_type": "stream",
          "text": [
            "Le message \"HelloWorld\" à été chiffré : 310517144444725345154752616543913229466\n"
          ],
          "name": "stdout"
        }
      ]
    },
    {
      "cell_type": "markdown",
      "metadata": {
        "colab_type": "text",
        "id": "jVeQJW5hKqw5"
      },
      "source": [
        "###**Chiffrement RSA d'un message entier**"
      ]
    },
    {
      "cell_type": "markdown",
      "metadata": {
        "colab_type": "text",
        "id": "mUQp-T8jKqw9"
      },
      "source": [
        "####**Définition**"
      ]
    },
    {
      "cell_type": "code",
      "metadata": {
        "colab_type": "code",
        "id": "R5cO2RrgKqxA",
        "colab": {}
      },
      "source": [
        "def messageToRSA(msg, n, b):\n",
        "\n",
        "  taille = tailleBlocMax(n)\n",
        "  l = encodage(msg, tailleBloc=taille)\n",
        "\n",
        "  result = []\n",
        "  for elt in l:\n",
        "    result.append(chiffrementRSA(elt, n, b))\n",
        "  \n",
        "  return result"
      ],
      "execution_count": 0,
      "outputs": []
    },
    {
      "cell_type": "markdown",
      "metadata": {
        "colab_type": "text",
        "id": "2imF5DNSKqxI"
      },
      "source": [
        "####**Test**"
      ]
    },
    {
      "cell_type": "code",
      "metadata": {
        "colab_type": "code",
        "id": "gwOgQi69KqxJ",
        "outputId": "974a6caa-4598-484c-bfab-1812a3af6bfc",
        "colab": {
          "base_uri": "https://localhost:8080/",
          "height": 74
        }
      },
      "source": [
        "msg = \"à Lorem ipsum dolor sit amet, consectetur adipiscing elit. Quisque egestas eget orci sit amet ullamcorper. Curabitur venenatis non nulla eu ullamcorper. Sed dignissim, libero sed sodales posuere, sapien enim eleifend nisi, sed fringilla turpis tortor sit amet nibh. Nam at arcu id massa aliquam tincidunt. Aliquam vulputate, sapien id pellentesque sodales, leo magna ullamcorper urna, non rutrum erat lorem nec justo. In varius mauris neque, at ultrices ipsum bibendum at. Aliquam vel molestie dolor, sed mattis nisl. Maecenas auctor quis tortor a placerat. Suspendisse lobortis pharetra nunc, eu iaculis justo tristique at. Morbi augue purus, elementum non posuere ac, pulvinar sit amet odio. Nulla vitae. \"\n",
        "msgRSA = messageToRSA(msg, n, b)\n",
        "print(\"Le message \\\"\"+msg+\"\\\"\")\n",
        "print(\"à été chiffré :\",msgRSA)"
      ],
      "execution_count": 0,
      "outputs": [
        {
          "output_type": "stream",
          "text": [
            "Le message \"à Lorem ipsum dolor sit amet, consectetur adipiscing elit. Quisque egestas eget orci sit amet ullamcorper. Curabitur venenatis non nulla eu ullamcorper. Sed dignissim, libero sed sodales posuere, sapien enim eleifend nisi, sed fringilla turpis tortor sit amet nibh. Nam at arcu id massa aliquam tincidunt. Aliquam vulputate, sapien id pellentesque sodales, leo magna ullamcorper urna, non rutrum erat lorem nec justo. In varius mauris neque, at ultrices ipsum bibendum at. Aliquam vel molestie dolor, sed mattis nisl. Maecenas auctor quis tortor a placerat. Suspendisse lobortis pharetra nunc, eu iaculis justo tristique at. Morbi augue purus, elementum non posuere ac, pulvinar sit amet odio. Nulla vitae. \"\n",
            "à été chiffré : [577011532823449721367708433375207141477, 599728297935138904149896076215791075389, 311672465081818313699432163553942603008, 541919014569821444887520151700839064327, 491373921518885616267204059484251097681, 85652247805818157110412485825694762013, 188487309772917494444462622358692306516, 89673345522126138502683413076976311930, 117274855642106810681179165294973817417, 385930657893566508201475228921213625411, 493859657645237713714915367596617695393, 253882879923847681017776748654756920639, 433912913315391763025210363413238742559, 74114861726670017395960187045312051301, 484939815222144249222950218806950495249, 542391856705259701714887849538197348682, 596132340838767748854736592982274781299, 54458192795383791718776278581660031149, 615906456451145700752975483091455280658, 372081530781709457261869499424448953085, 615643496742584684835574989659128634444, 97375655448521933802172471592077183830, 388830265014728915269125147836466917481, 597161959125151378166837860624043560676, 608806853701285621835672284011102822390, 363492462115246471176753809918668420337, 660522905111180752428972626411423003820, 130759286408051703806080706443027067796, 701116671378211112044180480546468596531, 593522904081759592026462161892632603205, 471635464121928269052587615704122854916, 444574807716575032419270283814584111681, 536298449547391762700380347546424011657, 609239251202284276395550072129207946047, 378855753517743645517577752007996013497, 138943381458818890212697054534632261739]\n"
          ],
          "name": "stdout"
        }
      ]
    },
    {
      "cell_type": "markdown",
      "metadata": {
        "id": "RWjeqJ2oM3FL",
        "colab_type": "text"
      },
      "source": [
        "##**Question 3**"
      ]
    },
    {
      "cell_type": "markdown",
      "metadata": {
        "id": "rOs43uDINtBx",
        "colab_type": "text"
      },
      "source": [
        "###**Déchiffrement RSA d'un message**"
      ]
    },
    {
      "cell_type": "markdown",
      "metadata": {
        "id": "3Ohc1jrANysc",
        "colab_type": "text"
      },
      "source": [
        "####**Définition**"
      ]
    },
    {
      "cell_type": "code",
      "metadata": {
        "id": "nDI6qr-fM2nh",
        "colab_type": "code",
        "colab": {}
      },
      "source": [
        "def rsaToMessage(rsa, n, a):\n",
        "\n",
        "  result = []\n",
        "  for elt in rsa:\n",
        "    result.append(chiffrementRSA(elt, n, a))\n",
        "  \n",
        "  taille = tailleBlocMax(n)\n",
        "  l = decodage(result, tailleBloc=taille)\n",
        "\n",
        "  return l"
      ],
      "execution_count": 0,
      "outputs": []
    },
    {
      "cell_type": "markdown",
      "metadata": {
        "id": "xn86bnc6NxhI",
        "colab_type": "text"
      },
      "source": [
        "####**Test**\n",
        "\n",
        "Le message est donc bien déchiffré, exepté, encore une fois, pour le caractère spécial \"à\" qui a été remplacé par un \"@\"."
      ]
    },
    {
      "cell_type": "code",
      "metadata": {
        "id": "KxHRc3ibN4Xr",
        "colab_type": "code",
        "outputId": "9daec43b-45ce-4160-863a-ff37fc78e9ca",
        "colab": {
          "base_uri": "https://localhost:8080/",
          "height": 110
        }
      },
      "source": [
        "print(\"Le message à déchiffrer est :\",msgRSA)\n",
        "print(\"\")\n",
        "\n",
        "msgAfter = rsaToMessage(msgRSA, n, a)\n",
        "print(\"Message déchiffré :\",msgAfter)\n",
        "print(\"     Vérification :\",msg)"
      ],
      "execution_count": 0,
      "outputs": [
        {
          "output_type": "stream",
          "text": [
            "Le message à déchiffrer est : [577011532823449721367708433375207141477, 599728297935138904149896076215791075389, 311672465081818313699432163553942603008, 541919014569821444887520151700839064327, 491373921518885616267204059484251097681, 85652247805818157110412485825694762013, 188487309772917494444462622358692306516, 89673345522126138502683413076976311930, 117274855642106810681179165294973817417, 385930657893566508201475228921213625411, 493859657645237713714915367596617695393, 253882879923847681017776748654756920639, 433912913315391763025210363413238742559, 74114861726670017395960187045312051301, 484939815222144249222950218806950495249, 542391856705259701714887849538197348682, 596132340838767748854736592982274781299, 54458192795383791718776278581660031149, 615906456451145700752975483091455280658, 372081530781709457261869499424448953085, 615643496742584684835574989659128634444, 97375655448521933802172471592077183830, 388830265014728915269125147836466917481, 597161959125151378166837860624043560676, 608806853701285621835672284011102822390, 363492462115246471176753809918668420337, 660522905111180752428972626411423003820, 130759286408051703806080706443027067796, 701116671378211112044180480546468596531, 593522904081759592026462161892632603205, 471635464121928269052587615704122854916, 444574807716575032419270283814584111681, 536298449547391762700380347546424011657, 609239251202284276395550072129207946047, 378855753517743645517577752007996013497, 138943381458818890212697054534632261739]\n",
            "\n",
            "Message déchiffré : @ Lorem ipsum dolor sit amet, consectetur adipiscing elit. Quisque egestas eget orci sit amet ullamcorper. Curabitur venenatis non nulla eu ullamcorper. Sed dignissim, libero sed sodales posuere, sapien enim eleifend nisi, sed fringilla turpis tortor sit amet nibh. Nam at arcu id massa aliquam tincidunt. Aliquam vulputate, sapien id pellentesque sodales, leo magna ullamcorper urna, non rutrum erat lorem nec justo. In varius mauris neque, at ultrices ipsum bibendum at. Aliquam vel molestie dolor, sed mattis nisl. Maecenas auctor quis tortor a placerat. Suspendisse lobortis pharetra nunc, eu iaculis justo tristique at. Morbi augue purus, elementum non posuere ac, pulvinar sit amet odio. Nulla vitae. \n",
            "     Vérification : à Lorem ipsum dolor sit amet, consectetur adipiscing elit. Quisque egestas eget orci sit amet ullamcorper. Curabitur venenatis non nulla eu ullamcorper. Sed dignissim, libero sed sodales posuere, sapien enim eleifend nisi, sed fringilla turpis tortor sit amet nibh. Nam at arcu id massa aliquam tincidunt. Aliquam vulputate, sapien id pellentesque sodales, leo magna ullamcorper urna, non rutrum erat lorem nec justo. In varius mauris neque, at ultrices ipsum bibendum at. Aliquam vel molestie dolor, sed mattis nisl. Maecenas auctor quis tortor a placerat. Suspendisse lobortis pharetra nunc, eu iaculis justo tristique at. Morbi augue purus, elementum non posuere ac, pulvinar sit amet odio. Nulla vitae. \n"
          ],
          "name": "stdout"
        }
      ]
    },
    {
      "cell_type": "markdown",
      "metadata": {
        "id": "5FaiYpuUR7YI",
        "colab_type": "text"
      },
      "source": [
        "##**Question 4**"
      ]
    },
    {
      "cell_type": "markdown",
      "metadata": {
        "id": "rzwtb2QwSlm9",
        "colab_type": "text"
      },
      "source": [
        "###**Déchiffrement frauduleux**\n",
        "\n",
        "1) $x$ doit être premier avec $n$ :\n",
        "\n",
        "Le principe du chiffrement RSA est fondé sur la complexité de la décomposition d'un grand nombre en facteurs premiers, en d'autres mots, de retrouver $p$ et $q$ à partir de $n$. \n",
        "\n",
        "Si $x$ n'est pas premier avec $n$, alors $x$ vaut soit $q$, soit p ($x$ étant inférieur à $n$), ainsi si $x$ n'est pas premier, il est possible de retrouver les facteurs premiers de n qui sont donc $x$ et $\\frac{n}{x}$.\n",
        "\n",
        "2) Oscar peut-t'il trouver la clé prive\n",
        "\n",
        "#####\n",
        "\n"
      ]
    },
    {
      "cell_type": "markdown",
      "metadata": {
        "id": "vzwhCcoY7FFL",
        "colab_type": "text"
      },
      "source": [
        "####**Définition**"
      ]
    },
    {
      "cell_type": "code",
      "metadata": {
        "id": "ewNSok_h7EXO",
        "colab_type": "code",
        "colab": {}
      },
      "source": [
        "def probXPrimeWithN(n):\n",
        "  \n",
        "  xMax = tailleBlocMax(n)\n",
        "  return \"2/\"+str(len(abc)**xMax)"
      ],
      "execution_count": 0,
      "outputs": []
    },
    {
      "cell_type": "markdown",
      "metadata": {
        "id": "7Aa3EOLL9M_7",
        "colab_type": "text"
      },
      "source": [
        "####**Test**"
      ]
    },
    {
      "cell_type": "code",
      "metadata": {
        "id": "wrHmiDCh9TGN",
        "colab_type": "code",
        "outputId": "af7fb252-2dc0-4712-b001-edb8b036a04a",
        "colab": {
          "base_uri": "https://localhost:8080/",
          "height": 35
        }
      },
      "source": [
        "print(\"La probabilité que le message encodé ne soit pas premier avec n est de :\",probXPrimeWithN(n))"
      ],
      "execution_count": 0,
      "outputs": [
        {
          "output_type": "stream",
          "text": [
            "La probabilité que le message encodé ne soit pas premier avec n est de : 2/188919613181312032574569023867244773376\n"
          ],
          "name": "stdout"
        }
      ]
    },
    {
      "cell_type": "markdown",
      "metadata": {
        "id": "y4z3aYthSgV6",
        "colab_type": "text"
      },
      "source": [
        "#**Partie 4 - Génération de nombres premiers**"
      ]
    },
    {
      "cell_type": "markdown",
      "metadata": {
        "id": "D7jmLjtYS3BG",
        "colab_type": "text"
      },
      "source": [
        "##**Question 1**"
      ]
    },
    {
      "cell_type": "markdown",
      "metadata": {
        "id": "dP_oKuiCdnB4",
        "colab_type": "text"
      },
      "source": [
        "###**Resolution de l'équation (n-1) = 2^s*d**"
      ]
    },
    {
      "cell_type": "markdown",
      "metadata": {
        "id": "uf9oVELqdvkM",
        "colab_type": "text"
      },
      "source": [
        "####**Définition**"
      ]
    },
    {
      "cell_type": "code",
      "metadata": {
        "id": "Ke7CI91kdzT1",
        "colab_type": "code",
        "colab": {}
      },
      "source": [
        "def resolveMillerFormula(n):\n",
        "  assert n%2, \"n doit être impair\"\n",
        "\n",
        "  s = 0\n",
        "  \n",
        "  nMinus1Bin = bin(n-1)[2:]\n",
        "  while (s<len(nMinus1Bin) and nMinus1Bin[len(nMinus1Bin)-1-s]=='0'):\n",
        "    s+=1\n",
        "\n",
        "  d = int(nMinus1Bin[:len(nMinus1Bin)-s], 2)\n",
        "  \n",
        "  return s, d"
      ],
      "execution_count": 0,
      "outputs": []
    },
    {
      "cell_type": "markdown",
      "metadata": {
        "id": "XwrgTOV-dx71",
        "colab_type": "text"
      },
      "source": [
        "####**Test**"
      ]
    },
    {
      "cell_type": "code",
      "metadata": {
        "id": "1GXogvkmd35_",
        "colab_type": "code",
        "outputId": "75eae69c-8688-4719-87ab-5af53164478d",
        "colab": {
          "base_uri": "https://localhost:8080/",
          "height": 35
        }
      },
      "source": [
        "n = 565\n",
        "\n",
        "s, d = resolveMillerFormula(n)\n",
        "print(n-1, \"= 2 ^\", s, \"*\", d)"
      ],
      "execution_count": 0,
      "outputs": [
        {
          "output_type": "stream",
          "text": [
            "564 = 2 ^ 2 * 141\n"
          ],
          "name": "stdout"
        }
      ]
    },
    {
      "cell_type": "markdown",
      "metadata": {
        "id": "7XCGVLP3TAfU",
        "colab_type": "text"
      },
      "source": [
        "###**Test de Miller en base définie**"
      ]
    },
    {
      "cell_type": "markdown",
      "metadata": {
        "id": "RSs537fqTFih",
        "colab_type": "text"
      },
      "source": [
        "####**Définition**"
      ]
    },
    {
      "cell_type": "code",
      "metadata": {
        "id": "bNi8bWMsTIX5",
        "colab_type": "code",
        "colab": {}
      },
      "source": [
        "def testMillerBase(n, a):\n",
        "  assert n>3, \"n doit être supérieur à 3\"\n",
        "  assert a<n, \"a doit être inférieur à n\"\n",
        "  \n",
        "  s, d = resolveMillerFormula(n)\n",
        "\n",
        "  x = expoRapide(a, d, n)\n",
        "\n",
        "  if x==1 or x==n-1:\n",
        "    return False\n",
        "\n",
        "  for _ in range(s-1):\n",
        "    x = expoRapide(x, x, n)\n",
        "    if x==n-1:\n",
        "      return False\n",
        "  \n",
        "  return True"
      ],
      "execution_count": 0,
      "outputs": []
    },
    {
      "cell_type": "markdown",
      "metadata": {
        "id": "Yvqd6pqrgPp4",
        "colab_type": "text"
      },
      "source": [
        "####**Test**"
      ]
    },
    {
      "cell_type": "code",
      "metadata": {
        "id": "ND9aVcYrgQs7",
        "colab_type": "code",
        "outputId": "df7bea26-5ff0-45f2-b0bf-22317391b50d",
        "colab": {
          "base_uri": "https://localhost:8080/",
          "height": 127
        }
      },
      "source": [
        "n = 23\n",
        "a = 6\n",
        "r = testMillerBase(n, a)\n",
        "print(n,\"est premier :\",not r)\n",
        "print(\"Comparaison avec la bibliothèque Sympy :\", sy.isprime(n))\n",
        "print(\"\")\n",
        "\n",
        "n = 561\n",
        "a = 50\n",
        "r = testMillerBase(n, a)\n",
        "print(n,\"est premier :\",not r)\n",
        "print(\"Comparaison avec la bibliothèque Sympy :\", sy.isprime(n))\n",
        "print(\"Le témoin 50 est un menteur pour l'entier 561.\")"
      ],
      "execution_count": 0,
      "outputs": [
        {
          "output_type": "stream",
          "text": [
            "23 est premier : True\n",
            "Comparaison avec la bibliothèque Sympy : True\n",
            "\n",
            "561 est premier : True\n",
            "Comparaison avec la bibliothèque Sympy : False\n",
            "Le témoin 50 est un menteur pour l'entier 561.\n"
          ],
          "name": "stdout"
        }
      ]
    },
    {
      "cell_type": "markdown",
      "metadata": {
        "id": "ZO8OwZNNv7RK",
        "colab_type": "text"
      },
      "source": [
        "##**Question 2**"
      ]
    },
    {
      "cell_type": "markdown",
      "metadata": {
        "id": "VZbqm_b8tOBU",
        "colab_type": "text"
      },
      "source": [
        "###**Test de Miller**"
      ]
    },
    {
      "cell_type": "markdown",
      "metadata": {
        "id": "y8oxJcvvtRiu",
        "colab_type": "text"
      },
      "source": [
        "####**Définition**"
      ]
    },
    {
      "cell_type": "code",
      "metadata": {
        "id": "QBXepJ__tmLb",
        "colab_type": "code",
        "colab": {}
      },
      "source": [
        "def testMiller(n, m=20):\n",
        "  if n<=1:\n",
        "    return False\n",
        "  if n<=3:\n",
        "    return True\n",
        "  if not n%2:\n",
        "    return False\n",
        "  \n",
        "  for _ in range(m):\n",
        "    a = rand.randint(2,n-2)\n",
        "    if testMillerBase(n, a):\n",
        "      return False\n",
        "  return True"
      ],
      "execution_count": 0,
      "outputs": []
    },
    {
      "cell_type": "markdown",
      "metadata": {
        "id": "BpWRc5hiys-i",
        "colab_type": "text"
      },
      "source": [
        "####**Test**"
      ]
    },
    {
      "cell_type": "code",
      "metadata": {
        "colab_type": "code",
        "id": "H9F4YtuYvcBz",
        "outputId": "2fdc3aae-869d-4ab4-f9aa-e30671b8b216",
        "colab": {
          "base_uri": "https://localhost:8080/",
          "height": 127
        }
      },
      "source": [
        "n = 23\n",
        "r = testMiller(n)\n",
        "print(n,\"est premier :\",r)\n",
        "print(\"Comparaison avec la bibliothèque Sympy :\", sy.isprime(n))\n",
        "print(\"\")\n",
        "\n",
        "n = 221\n",
        "r = testMiller(n)\n",
        "print(n,\"est premier :\",r)\n",
        "print(\"Comparaison avec la bibliothèque Sympy :\", sy.isprime(n))\n",
        "print(\"L'utilisation de multiples témoins, permet de mettre en défaut les témoins menteurs'\")"
      ],
      "execution_count": 0,
      "outputs": [
        {
          "output_type": "stream",
          "text": [
            "23 est premier : True\n",
            "Comparaison avec la bibliothèque Sympy : True\n",
            "\n",
            "221 est premier : False\n",
            "Comparaison avec la bibliothèque Sympy : False\n",
            "L'utilisation de multiples témoins, permet de mettre en défaut les témoins menteurs'\n"
          ],
          "name": "stdout"
        }
      ]
    },
    {
      "cell_type": "markdown",
      "metadata": {
        "id": "uX_FFSepwAjF",
        "colab_type": "text"
      },
      "source": [
        "##**Question 3**"
      ]
    },
    {
      "cell_type": "markdown",
      "metadata": {
        "id": "wOGXLGjdwBkx",
        "colab_type": "text"
      },
      "source": [
        "###**Générateur de nombre premier**"
      ]
    },
    {
      "cell_type": "markdown",
      "metadata": {
        "id": "WqBZVS2nwmjW",
        "colab_type": "text"
      },
      "source": [
        "####**Définition**"
      ]
    },
    {
      "cell_type": "code",
      "metadata": {
        "id": "UQU2i_-wwp9A",
        "colab_type": "code",
        "colab": {}
      },
      "source": [
        "def generateurPremier(k):\n",
        "  assert k>=2, \"k doit être supérieur strictement à 1\"\n",
        "  \n",
        "  x = 1\n",
        "  while (not testMiller(x, 100)):\n",
        "    x = rand.randint(2**(k-1), 2**(k)-1) | 1\n",
        "\n",
        "  return x"
      ],
      "execution_count": 0,
      "outputs": []
    },
    {
      "cell_type": "markdown",
      "metadata": {
        "id": "Ojw_coiey76t",
        "colab_type": "text"
      },
      "source": [
        "####**Test**"
      ]
    },
    {
      "cell_type": "code",
      "metadata": {
        "id": "6vx6Yo3CzAQG",
        "colab_type": "code",
        "outputId": "c9fc65d0-631d-4a69-bae5-f47353a4e829",
        "colab": {
          "base_uri": "https://localhost:8080/",
          "height": 293
        }
      },
      "source": [
        "power = [5, 10, 100, 250, 500]#, 1000, 2000, 3000, 4000, 5000]\n",
        "\n",
        "for k in power:\n",
        "  t = micro()\n",
        "  x = generateurPremier(k)\n",
        "  print(k, \"-\", x, \"est bien premier :\",sy.isprime(x))\n",
        "  print(\"#Nombre premier trouvé en\",displayPeriod(micro()-t))\n",
        "  print(\"\")"
      ],
      "execution_count": 0,
      "outputs": [
        {
          "output_type": "stream",
          "text": [
            "5 - 19 est bien premier : True\n",
            "#Nombre premier trouvé en 1.308ms\n",
            "\n",
            "10 - 739 est bien premier : True\n",
            "#Nombre premier trouvé en 930µs\n",
            "\n",
            "100 - 959800255371956203200163544867 est bien premier : True\n",
            "#Nombre premier trouvé en 33.029ms\n",
            "\n",
            "250 - 1770172546499726130836971998089055782153916255665168288039650346498318302967 est bien premier : True\n",
            "#Nombre premier trouvé en 136.512ms\n",
            "\n",
            "500 - 2768788258833570172228392481098896800136903159833011806475625888293615254312864089731066639905916786672558343060647227291663206892125420658966758062707 est bien premier : True\n",
            "#Nombre premier trouvé en 764.172ms\n",
            "\n"
          ],
          "name": "stdout"
        }
      ]
    },
    {
      "cell_type": "markdown",
      "metadata": {
        "id": "5egmi8UY3CQQ",
        "colab_type": "text"
      },
      "source": [
        "#**Partie 5 - ElGamal**"
      ]
    },
    {
      "cell_type": "markdown",
      "metadata": {
        "id": "TYykA9933IQM",
        "colab_type": "text"
      },
      "source": [
        "##**Construction de p**"
      ]
    },
    {
      "cell_type": "markdown",
      "metadata": {
        "id": "sPs57lVW3mU9",
        "colab_type": "text"
      },
      "source": [
        "###**Question 1**\n"
      ]
    },
    {
      "cell_type": "markdown",
      "metadata": {
        "id": "sqRzR9_liLkj",
        "colab_type": "text"
      },
      "source": [
        "####**Condition de complexité**\n",
        "\n",
        "L'algoritme ElGamal repose sur la complexité du problème de logarithme discret (déchiffrement par force brut), contrairement à l'exponentiation.\n",
        "\n",
        "Le problème de logarithme discret requiert une clé $p$, qui doit être très grande et nombre premier, et $p-1$ avec un très grand facteur premier, d'où $p = q\\times2-1$."
      ]
    },
    {
      "cell_type": "markdown",
      "metadata": {
        "colab_type": "text",
        "id": "k4l5U-fC4ms1"
      },
      "source": [
        "###**Question 2**"
      ]
    },
    {
      "cell_type": "markdown",
      "metadata": {
        "colab_type": "text",
        "id": "SAI9798z4oh6"
      },
      "source": [
        "####**Génération d'une nombre premier ElGamal**"
      ]
    },
    {
      "cell_type": "markdown",
      "metadata": {
        "id": "CPGgE5iS4ysr",
        "colab_type": "text"
      },
      "source": [
        "#####**Définition**"
      ]
    },
    {
      "cell_type": "code",
      "metadata": {
        "id": "sYi6n5vu47Pr",
        "colab_type": "code",
        "colab": {}
      },
      "source": [
        "def premierElGamal(k):\n",
        "\n",
        "  q = 0\n",
        "  p = q*2+1\n",
        "  while not testMiller(p):\n",
        "    q = generateurPremier(k)\n",
        "    p = q*2+1\n",
        "\n",
        "  return p, q"
      ],
      "execution_count": 0,
      "outputs": []
    },
    {
      "cell_type": "markdown",
      "metadata": {
        "id": "4JSbrZ1v5KJo",
        "colab_type": "text"
      },
      "source": [
        "#####**Test**"
      ]
    },
    {
      "cell_type": "code",
      "metadata": {
        "id": "UEj8pVfq5LEf",
        "colab_type": "code",
        "outputId": "9d2f6df3-a13f-4966-cc6f-50ad0979d604",
        "colab": {
          "base_uri": "https://localhost:8080/",
          "height": 237
        }
      },
      "source": [
        "power = [2, 5, 10, 100]\n",
        "\n",
        "for k in power[1:]:\n",
        "  t = micro()\n",
        "  p, q = premierElGamal(k)\n",
        "  print(k, \"donne\", p,\"=\", q,\"* 2 + 1\")\n",
        "  print(p,\"est premier :\",sy.isprime(x))\n",
        "  print(\"#Nombre premier de ElGamal trouvé en\",displayPeriod(micro()-t))\n",
        "  print(\"\")"
      ],
      "execution_count": 0,
      "outputs": [
        {
          "output_type": "stream",
          "text": [
            "5 donne 47 = 23 * 2 + 1\n",
            "47 est premier : True\n",
            "#Nombre premier de ElGamal trouvé en 7.397ms\n",
            "\n",
            "10 donne 1367 = 683 * 2 + 1\n",
            "1367 est premier : True\n",
            "#Nombre premier de ElGamal trouvé en 8.668ms\n",
            "\n",
            "100 donne 2304558783229609848584708612159 = 1152279391614804924292354306079 * 2 + 1\n",
            "2304558783229609848584708612159 est premier : True\n",
            "#Nombre premier de ElGamal trouvé en 224.775ms\n",
            "\n"
          ],
          "name": "stdout"
        }
      ]
    },
    {
      "cell_type": "markdown",
      "metadata": {
        "id": "KfmZvhNDiSGp",
        "colab_type": "text"
      },
      "source": [
        "##**Construction d'une clé (p,a)**"
      ]
    },
    {
      "cell_type": "markdown",
      "metadata": {
        "id": "ntOWmPgziW7y",
        "colab_type": "text"
      },
      "source": [
        "###**Question 1**"
      ]
    },
    {
      "cell_type": "markdown",
      "metadata": {
        "id": "0iWW9e9ui4Gf",
        "colab_type": "text"
      },
      "source": [
        "####**Clé Privé ElGamal**"
      ]
    },
    {
      "cell_type": "markdown",
      "metadata": {
        "id": "eWmwuwB6kgpG",
        "colab_type": "text"
      },
      "source": [
        "#####**Définition**"
      ]
    },
    {
      "cell_type": "code",
      "metadata": {
        "id": "OMme86JjjxyH",
        "colab_type": "code",
        "colab": {}
      },
      "source": [
        "def clePriveElGamal(k):\n",
        "\n",
        "  p, _ = premierElGamal(k)\n",
        "  a = rand.randint(0, p-2)\n",
        "\n",
        "  return p, a"
      ],
      "execution_count": 0,
      "outputs": []
    },
    {
      "cell_type": "markdown",
      "metadata": {
        "id": "Klo9CwULkeyI",
        "colab_type": "text"
      },
      "source": [
        "#####**Test**"
      ]
    },
    {
      "cell_type": "code",
      "metadata": {
        "id": "4mycfFZ1kkGr",
        "colab_type": "code",
        "outputId": "38ec638f-8a52-4647-d87e-8fa7e32c5e9b",
        "colab": {
          "base_uri": "https://localhost:8080/",
          "height": 35
        }
      },
      "source": [
        "k = 100\n",
        "p, a = clePriveElGamal(k)\n",
        "print(\"Génération d'une clé privé ElGamal (p,a) :\", (p, a))"
      ],
      "execution_count": 0,
      "outputs": [
        {
          "output_type": "stream",
          "text": [
            "Génération d'une clé privé ElGamal (p,a) : (1650959122451780791159709751599, 354739514221855586739284007364)\n"
          ],
          "name": "stdout"
        }
      ]
    },
    {
      "cell_type": "markdown",
      "metadata": {
        "id": "jPEf2W0IoNPM",
        "colab_type": "text"
      },
      "source": [
        "####**Clé Public ElGamal**"
      ]
    },
    {
      "cell_type": "markdown",
      "metadata": {
        "id": "CSQz5WRnoPxz",
        "colab_type": "text"
      },
      "source": [
        "#####**Définition**"
      ]
    },
    {
      "cell_type": "code",
      "metadata": {
        "id": "qETNQvtioQ2u",
        "colab_type": "code",
        "colab": {}
      },
      "source": [
        "def clePublicElGamal(p, a):\n",
        "  \n",
        "  m = rand.randint(0, p-1)\n",
        "  n = expoRapide(m, a, p)\n",
        "\n",
        "  return p, m, n"
      ],
      "execution_count": 0,
      "outputs": []
    },
    {
      "cell_type": "markdown",
      "metadata": {
        "id": "gfq_K30UwR0e",
        "colab_type": "text"
      },
      "source": [
        "#####**Test**"
      ]
    },
    {
      "cell_type": "code",
      "metadata": {
        "id": "Rqsgl_xRwWO5",
        "colab_type": "code",
        "outputId": "64959523-6eaf-4600-ddab-e1bfce2813be",
        "colab": {
          "base_uri": "https://localhost:8080/",
          "height": 35
        }
      },
      "source": [
        "_, m, n = clePublicElGamal(p, a)\n",
        "print(\"Génération d'une clé public ElGamal (p,m,n) :\", (p, m, n))"
      ],
      "execution_count": 0,
      "outputs": [
        {
          "output_type": "stream",
          "text": [
            "Génération d'une clé public ElGamal (p,m,n) : (1650959122451780791159709751599, 893399658037006699894253782720, 1039934498349289515595616355709)\n"
          ],
          "name": "stdout"
        }
      ]
    },
    {
      "cell_type": "markdown",
      "metadata": {
        "id": "nDbEazk7xNlj",
        "colab_type": "text"
      },
      "source": [
        "##**Implémentation de ElGamal**"
      ]
    },
    {
      "cell_type": "markdown",
      "metadata": {
        "id": "T8biIsAtxSh5",
        "colab_type": "text"
      },
      "source": [
        "###**Chiffrement**"
      ]
    },
    {
      "cell_type": "markdown",
      "metadata": {
        "id": "kqAru8sPyCzo",
        "colab_type": "text"
      },
      "source": [
        "####**Définition**"
      ]
    },
    {
      "cell_type": "code",
      "metadata": {
        "id": "2wyH6bKsyDkm",
        "colab_type": "code",
        "colab": {}
      },
      "source": [
        "def chiffrementElGamal(x, public):\n",
        "\n",
        "  p, m, n = public\n",
        "  assert x<p, \"x doit être inférieur à p\"\n",
        "\n",
        "  k = rand.randint(0, p-1)\n",
        "\n",
        "  y1 = expoRapide(m, k, p)\n",
        "  y2 = x*expoRapide(n, k, p)\n",
        "\n",
        "  return y1, y2"
      ],
      "execution_count": 0,
      "outputs": []
    },
    {
      "cell_type": "markdown",
      "metadata": {
        "id": "Iaqht9ngzAG_",
        "colab_type": "text"
      },
      "source": [
        "####**Test**"
      ]
    },
    {
      "cell_type": "code",
      "metadata": {
        "id": "uUjtA2v-zCg5",
        "colab_type": "code",
        "outputId": "2cd18d78-18c3-43cc-9708-bff757bb4d30",
        "colab": {
          "base_uri": "https://localhost:8080/",
          "height": 109
        }
      },
      "source": [
        "msg = \"Hello World !\"\n",
        "print(\"Le message est : \\\"\"+msg+\"\\\"\")\n",
        "print(\"\")\n",
        "\n",
        "print(\"Un bloc est de taille maximum :\",tailleBlocMax(p))\n",
        "print(\"\")\n",
        "\n",
        "cMsg = encodageBloc(msg)\n",
        "\n",
        "elGamal = chiffrementElGamal(cMsg, (p, m, n))\n",
        "print(\"Le bloc chiffré donne :\", elGamal)"
      ],
      "execution_count": 0,
      "outputs": [
        {
          "output_type": "stream",
          "text": [
            "Le message est : \"Hello World !\"\n",
            "\n",
            "Un bloc est de taille maximum : 15\n",
            "\n",
            "Le bloc chiffré donne : (1306388977984388828495809868286, 2025254192777747783834750515641239306814957186967630612)\n"
          ],
          "name": "stdout"
        }
      ]
    },
    {
      "cell_type": "markdown",
      "metadata": {
        "id": "j1arBItW2kL5",
        "colab_type": "text"
      },
      "source": [
        "###**Déchiffrement**"
      ]
    },
    {
      "cell_type": "markdown",
      "metadata": {
        "id": "Cv6Q59C52oSA",
        "colab_type": "text"
      },
      "source": [
        "####**Définition**"
      ]
    },
    {
      "cell_type": "code",
      "metadata": {
        "id": "imjS8bnD2rKc",
        "colab_type": "code",
        "colab": {}
      },
      "source": [
        "def dechiffrementElGamal(y, prive):\n",
        "\n",
        "  y1, y2 = y\n",
        "  p, a = prive\n",
        "  x = (expoRapide(y1, p-1-a, p) * y2) %p\n",
        "\n",
        "  return x"
      ],
      "execution_count": 0,
      "outputs": []
    },
    {
      "cell_type": "markdown",
      "metadata": {
        "id": "07pmwqPl2oyA",
        "colab_type": "text"
      },
      "source": [
        "####**Test**"
      ]
    },
    {
      "cell_type": "code",
      "metadata": {
        "id": "pwPwuQzT3QE6",
        "colab_type": "code",
        "outputId": "769d1ab1-8bb7-4c9a-e870-d4fc866b5c96",
        "colab": {
          "base_uri": "https://localhost:8080/",
          "height": 127
        }
      },
      "source": [
        "print(\"Le message à déchiffré est :\", elGamal)\n",
        "print(\"\")\n",
        "\n",
        "dMsg = dechiffrementElGamal(elGamal, (p, a))\n",
        "print(\"Le bloc déchiffré donne :\", dMsg)\n",
        "print(\"\")\n",
        "\n",
        "newMsg = decodageBloc(dMsg)\n",
        "print(\"Le message déchiffré et décodé donne :\",newMsg)\n",
        "print(\"                     Message initial :\",msg)\n",
        "\n",
        "cMsg = encodageBloc(msg)"
      ],
      "execution_count": 0,
      "outputs": [
        {
          "output_type": "stream",
          "text": [
            "Le message à déchiffré est : (1306388977984388828495809868286, 2025254192777747783834750515641239306814957186967630612)\n",
            "\n",
            "Le bloc déchiffré donne : 6379322887179225045360026\n",
            "\n",
            "Le message déchiffré et décodé donne : Hello World !\n",
            "                     Message initial : Hello World !\n"
          ],
          "name": "stdout"
        }
      ]
    },
    {
      "cell_type": "markdown",
      "metadata": {
        "colab_type": "text",
        "id": "JgC87ynzKX9O"
      },
      "source": [
        "###**Chiffrement ElGamal d'un message entier**"
      ]
    },
    {
      "cell_type": "markdown",
      "metadata": {
        "colab_type": "text",
        "id": "67s6QAANKX9S"
      },
      "source": [
        "####**Définition**"
      ]
    },
    {
      "cell_type": "code",
      "metadata": {
        "colab_type": "code",
        "id": "jlamGRgQKX9U",
        "colab": {}
      },
      "source": [
        "def messageToElGamal(msg, public):\n",
        "\n",
        "  p, _, _ = public\n",
        "\n",
        "  taille = tailleBlocMax(p)\n",
        "  l = encodage(msg, tailleBloc=taille)\n",
        "\n",
        "  result = []\n",
        "  for elt in l:\n",
        "    result.append(chiffrementElGamal(elt, public))\n",
        "  \n",
        "  return result"
      ],
      "execution_count": 0,
      "outputs": []
    },
    {
      "cell_type": "markdown",
      "metadata": {
        "colab_type": "text",
        "id": "cvGaufJrKX9c"
      },
      "source": [
        "####**Test**"
      ]
    },
    {
      "cell_type": "code",
      "metadata": {
        "colab_type": "code",
        "outputId": "ad70f5b7-616b-44e2-adc8-aa49f7a4fd81",
        "id": "qEJZP-5vKX9e",
        "colab": {
          "base_uri": "https://localhost:8080/",
          "height": 74
        }
      },
      "source": [
        "msg = \"à Lorem ipsum dolor sit amet, consectetur adipiscing elit. Quisque egestas eget orci sit amet ullamcorper. Curabitur venenatis non nulla eu ullamcorper. Sed dignissim, libero sed sodales posuere, sapien enim eleifend nisi, sed fringilla turpis tortor sit amet nibh. Nam at arcu id massa aliquam tincidunt. Aliquam vulputate, sapien id pellentesque sodales, leo magna ullamcorper urna, non rutrum erat lorem nec justo. In varius mauris neque, at ultrices ipsum bibendum at. Aliquam vel molestie dolor, sed mattis nisl. Maecenas auctor quis tortor a placerat. Suspendisse lobortis pharetra nunc, eu iaculis justo tristique at. Morbi augue purus, elementum non posuere ac, pulvinar sit amet odio. Nulla vitae. \"\n",
        "msgElGamal = messageToElGamal(msg, (p, m, n))\n",
        "print(\"Le message \\\"\"+msg+\"\\\"\")\n",
        "print(\"à été chiffré :\",msgElGamal)"
      ],
      "execution_count": 0,
      "outputs": [
        {
          "output_type": "stream",
          "text": [
            "Le message \"à Lorem ipsum dolor sit amet, consectetur adipiscing elit. Quisque egestas eget orci sit amet ullamcorper. Curabitur venenatis non nulla eu ullamcorper. Sed dignissim, libero sed sodales posuere, sapien enim eleifend nisi, sed fringilla turpis tortor sit amet nibh. Nam at arcu id massa aliquam tincidunt. Aliquam vulputate, sapien id pellentesque sodales, leo magna ullamcorper urna, non rutrum erat lorem nec justo. In varius mauris neque, at ultrices ipsum bibendum at. Aliquam vel molestie dolor, sed mattis nisl. Maecenas auctor quis tortor a placerat. Suspendisse lobortis pharetra nunc, eu iaculis justo tristique at. Morbi augue purus, elementum non posuere ac, pulvinar sit amet odio. Nulla vitae. \"\n",
            "à été chiffré : [(579404446854333292151948965988, 5824333498527488880456611885547362083871356444620867018698), (123303295521095914271839918720, 1352438666949683796103388637377631403765417667247701959047), (166375184691107124225939259433, 3298751604131643543866237092112571741087602355753914740935), (1167945312340171595554151539906, 1152030657539601863664117145600461031374786814729665850796), (439091179185528052793746112132, 90189170894798702713395081345011679634216660958688763977), (1600906996560228350888825428175, 2237676580545123219330790030816731573476040946443037963950), (938797318257864117798761889018, 6641462460162621238585574203730008083742128450048121628672), (289307106257941572172154531529, 10765769290140604218704671454961638206523561634111267121900), (1439972791382544295399202845977, 4932181436241281812988367031203003451510847472474753823907), (34219396494374690376605451694, 3835914281799206531354200900739811493622641557576666450877), (829651522732698075188763080414, 11463497833551572879084414805021405519919454203382557146608), (1335383058588560218610746865051, 18630497391955782967074766162549213866319973370001844697425), (348830314011152759069371807400, 15074022329433387076792209586028261477622732429656448667785), (1240278320621516546553850269492, 5208761755364589856201875604244467441635538994696503400960), (1189085529731999528453718303947, 3937334684940800023081663105686059741332698859948293605695), (949289816903073542758259547302, 12668381499285902248307320354054482054744080254318534438184), (1001387274649806639511907274726, 2127613532925946164534359875398443977403133277987161055032), (1213416930477018757476716544829, 1890662482286266833332103596672859064865755254591670945776), (1192113375737997442028909234632, 14493731798536086602250347053921478637688118080444488668064), (1043073490465081598224543351242, 7655943942403458368568930985505288922595512397746527319590), (1139264077285586083809326699953, 2146089798558383097679097625033390623379735241066493804840), (162591959112930164775127572214, 1375667216502339609999544987428623629030262484565889491060), (1021454153751924308419076039007, 14432874214774866293417904009028323501557041366755284865184), (471119776935778310807504875156, 8282977276597007430646292233374968684416550563940207993445), (355747495915220241615069511114, 16752170756429642329326722041170628122506605180675895355740), (90877925210940894670258305056, 16916520668861571402937834847978796945925160057915078241664), (726204811389188081670993403595, 3130386904755476515336283495263305541205048696081719789635), (1543065865790435226143953975558, 12215175813503443474482158230866353868073129583421860360250), (639531727753972733001771940904, 47960419155726220246390962716605362391178403024450564294), (792060281533747531832861087102, 1441720905263824443311188126117830562720877512604720031470), (475202800314145152098523416567, 1279861754332110802515224580478929278737699599381243518148), (1206588944574526472720615213798, 7661587090947178215656991941356678646535077103228943378304), (257339719517280317720813014609, 5677596016181644625217426783654317182604600352110914132848), (1576315308430706004455286096863, 6719494546610404616229541849400209637842428248242256513217), (1169193721051025383736851406130, 1579676025211206232978400885811350711669659092926175470147), (302861734568169900355958356730, 18616156251833102345283713891845079702241473610303777739638), (1109814863737757059273177951689, 3185425770255013867847672632397125583724842769258075163635), (988316642362946578307858780270, 1628134305161690756530894767482174042853618889991644467722), (1033207711624113712353797955049, 4423487331163631673435765028692389065698490725176929714640), (903943564902098107424689406479, 2292503350646520971006161590032404446639314882733702805604), (137766910524068921898667237191, 4495774606608320710838788878803672122070813233502721811310), (1110966621927939037575752263973, 5204657754919985092686712245603924638887250211343739548560), (226929890201587705900463802395, 6483290809372464356277094471157360767969223949960171417344), (1490180459527203028740057509406, 789764541788213190194949741004641876680569677433824764352), (342299921522230431503416005128, 3000220827910487357586434793035206728436963032741354564324), (1239376215570391292588973425685, 1365116919899445935939856368879466337949694923300380308910), (1306795613780617023173926994725, 4530445511166885161002788200042386312460787764053031468664), (726989635181914677158886220387, 330351361906925287334212793631550)]\n"
          ],
          "name": "stdout"
        }
      ]
    },
    {
      "cell_type": "markdown",
      "metadata": {
        "colab_type": "text",
        "id": "hj3nUQntNIMF"
      },
      "source": [
        "###**Déchiffrement ElGamal d'un message**"
      ]
    },
    {
      "cell_type": "markdown",
      "metadata": {
        "colab_type": "text",
        "id": "5A4NTF66NIMI"
      },
      "source": [
        "####**Définition**"
      ]
    },
    {
      "cell_type": "code",
      "metadata": {
        "colab_type": "code",
        "id": "E-_v1rb5NIMK",
        "colab": {}
      },
      "source": [
        "def elGamalToMessage(elGamal, prive):\n",
        "\n",
        "  result = []\n",
        "  for elt in elGamal:\n",
        "    result.append(dechiffrementElGamal(elt, prive))\n",
        "  \n",
        "  p, _ = prive\n",
        "  taille = tailleBlocMax(p)\n",
        "  l = decodage(result, tailleBloc=taille)\n",
        "\n",
        "  return l"
      ],
      "execution_count": 0,
      "outputs": []
    },
    {
      "cell_type": "markdown",
      "metadata": {
        "colab_type": "text",
        "id": "hOxdugZyNIMS"
      },
      "source": [
        "####**Test**\n",
        "\n",
        "Le message est donc bien déchiffré, exepté, encore une fois, pour le caractère spécial \"à\" qui a été remplacé par un \"@\"."
      ]
    },
    {
      "cell_type": "code",
      "metadata": {
        "colab_type": "code",
        "outputId": "76dcfab2-58e7-4fd7-ad4a-db85c850acec",
        "id": "wfGspZsYNIMU",
        "colab": {
          "base_uri": "https://localhost:8080/",
          "height": 110
        }
      },
      "source": [
        "print(\"Le message à déchiffrer est :\",msgElGamal)\n",
        "print(\"\")\n",
        "\n",
        "msgAfter = elGamalToMessage(msgElGamal, (p, a))\n",
        "print(\"Message déchiffré :\",msgAfter)\n",
        "print(\"     Vérification :\",msg)"
      ],
      "execution_count": 0,
      "outputs": [
        {
          "output_type": "stream",
          "text": [
            "Le message à déchiffrer est : [(579404446854333292151948965988, 5824333498527488880456611885547362083871356444620867018698), (123303295521095914271839918720, 1352438666949683796103388637377631403765417667247701959047), (166375184691107124225939259433, 3298751604131643543866237092112571741087602355753914740935), (1167945312340171595554151539906, 1152030657539601863664117145600461031374786814729665850796), (439091179185528052793746112132, 90189170894798702713395081345011679634216660958688763977), (1600906996560228350888825428175, 2237676580545123219330790030816731573476040946443037963950), (938797318257864117798761889018, 6641462460162621238585574203730008083742128450048121628672), (289307106257941572172154531529, 10765769290140604218704671454961638206523561634111267121900), (1439972791382544295399202845977, 4932181436241281812988367031203003451510847472474753823907), (34219396494374690376605451694, 3835914281799206531354200900739811493622641557576666450877), (829651522732698075188763080414, 11463497833551572879084414805021405519919454203382557146608), (1335383058588560218610746865051, 18630497391955782967074766162549213866319973370001844697425), (348830314011152759069371807400, 15074022329433387076792209586028261477622732429656448667785), (1240278320621516546553850269492, 5208761755364589856201875604244467441635538994696503400960), (1189085529731999528453718303947, 3937334684940800023081663105686059741332698859948293605695), (949289816903073542758259547302, 12668381499285902248307320354054482054744080254318534438184), (1001387274649806639511907274726, 2127613532925946164534359875398443977403133277987161055032), (1213416930477018757476716544829, 1890662482286266833332103596672859064865755254591670945776), (1192113375737997442028909234632, 14493731798536086602250347053921478637688118080444488668064), (1043073490465081598224543351242, 7655943942403458368568930985505288922595512397746527319590), (1139264077285586083809326699953, 2146089798558383097679097625033390623379735241066493804840), (162591959112930164775127572214, 1375667216502339609999544987428623629030262484565889491060), (1021454153751924308419076039007, 14432874214774866293417904009028323501557041366755284865184), (471119776935778310807504875156, 8282977276597007430646292233374968684416550563940207993445), (355747495915220241615069511114, 16752170756429642329326722041170628122506605180675895355740), (90877925210940894670258305056, 16916520668861571402937834847978796945925160057915078241664), (726204811389188081670993403595, 3130386904755476515336283495263305541205048696081719789635), (1543065865790435226143953975558, 12215175813503443474482158230866353868073129583421860360250), (639531727753972733001771940904, 47960419155726220246390962716605362391178403024450564294), (792060281533747531832861087102, 1441720905263824443311188126117830562720877512604720031470), (475202800314145152098523416567, 1279861754332110802515224580478929278737699599381243518148), (1206588944574526472720615213798, 7661587090947178215656991941356678646535077103228943378304), (257339719517280317720813014609, 5677596016181644625217426783654317182604600352110914132848), (1576315308430706004455286096863, 6719494546610404616229541849400209637842428248242256513217), (1169193721051025383736851406130, 1579676025211206232978400885811350711669659092926175470147), (302861734568169900355958356730, 18616156251833102345283713891845079702241473610303777739638), (1109814863737757059273177951689, 3185425770255013867847672632397125583724842769258075163635), (988316642362946578307858780270, 1628134305161690756530894767482174042853618889991644467722), (1033207711624113712353797955049, 4423487331163631673435765028692389065698490725176929714640), (903943564902098107424689406479, 2292503350646520971006161590032404446639314882733702805604), (137766910524068921898667237191, 4495774606608320710838788878803672122070813233502721811310), (1110966621927939037575752263973, 5204657754919985092686712245603924638887250211343739548560), (226929890201587705900463802395, 6483290809372464356277094471157360767969223949960171417344), (1490180459527203028740057509406, 789764541788213190194949741004641876680569677433824764352), (342299921522230431503416005128, 3000220827910487357586434793035206728436963032741354564324), (1239376215570391292588973425685, 1365116919899445935939856368879466337949694923300380308910), (1306795613780617023173926994725, 4530445511166885161002788200042386312460787764053031468664), (726989635181914677158886220387, 330351361906925287334212793631550)]\n",
            "\n",
            "Message déchiffré : @ Lorem ipsum dolor sit amet, consectetur adipiscing elit. Quisque egestas eget orci sit amet ullamcorper. Curabitur venenatis non nulla eu ullamcorper. Sed dignissim, libero sed sodales posuere, sapien enim eleifend nisi, sed fringilla turpis tortor sit amet nibh. Nam at arcu id massa aliquam tincidunt. Aliquam vulputate, sapien id pellentesque sodales, leo magna ullamcorper urna, non rutrum erat lorem nec justo. In varius mauris neque, at ultrices ipsum bibendum at. Aliquam vel molestie dolor, sed mattis nisl. Maecenas auctor quis tortor a placerat. Suspendisse lobortis pharetra nunc, eu iaculis justo tristique at. Morbi augue purus, elementum non posuere ac, pulvinar sit amet odio. Nulla vitae. \n",
            "     Vérification : à Lorem ipsum dolor sit amet, consectetur adipiscing elit. Quisque egestas eget orci sit amet ullamcorper. Curabitur venenatis non nulla eu ullamcorper. Sed dignissim, libero sed sodales posuere, sapien enim eleifend nisi, sed fringilla turpis tortor sit amet nibh. Nam at arcu id massa aliquam tincidunt. Aliquam vulputate, sapien id pellentesque sodales, leo magna ullamcorper urna, non rutrum erat lorem nec justo. In varius mauris neque, at ultrices ipsum bibendum at. Aliquam vel molestie dolor, sed mattis nisl. Maecenas auctor quis tortor a placerat. Suspendisse lobortis pharetra nunc, eu iaculis justo tristique at. Morbi augue purus, elementum non posuere ac, pulvinar sit amet odio. Nulla vitae. \n"
          ],
          "name": "stdout"
        }
      ]
    },
    {
      "cell_type": "markdown",
      "metadata": {
        "id": "3APjGCcTIrCD",
        "colab_type": "text"
      },
      "source": [
        "#**Partie 6 - Arithmétique dans K[X] et application à AES**"
      ]
    },
    {
      "cell_type": "markdown",
      "metadata": {
        "id": "FJbaKg0aI_aC",
        "colab_type": "text"
      },
      "source": [
        "##**Question 1**"
      ]
    },
    {
      "cell_type": "markdown",
      "metadata": {
        "id": "pqJ65oaiJC8h",
        "colab_type": "text"
      },
      "source": [
        "###**Implémentation de K[X] dans un corps**"
      ]
    },
    {
      "cell_type": "markdown",
      "metadata": {
        "id": "yb6SAQ_3fmJD",
        "colab_type": "text"
      },
      "source": [
        "Implémentation de la fonction $inverseMod(x, n)$ pour $K[X]$ est demmandé Question 2 mais est requis pour l'implémentation de la divison de $PolynomeModRing$"
      ]
    },
    {
      "cell_type": "markdown",
      "metadata": {
        "id": "fk0aeDdCJePV",
        "colab_type": "text"
      },
      "source": [
        "####**Définition**\n",
        "\n",
        "Cette implémentation concerne les polynômes à une variable, par exemple : $2x^3+4x^2+5x+10$.\n",
        "\n",
        "Les polynomes sont à coéfficients dans $F_n[X]$. Ces coefficients sond donc des entiers $a_k$ tel que 0 $\\leq$ $a_k$ $\\lt$ n."
      ]
    },
    {
      "cell_type": "code",
      "metadata": {
        "id": "TJicz7wbJdV5",
        "colab_type": "code",
        "outputId": "d85a0472-5c8f-420c-f795-046047a9a9b6",
        "colab": {
          "base_uri": "https://localhost:8080/",
          "height": 35
        }
      },
      "source": [
        "class PolynomeModRing:\n",
        "\n",
        "  #Constructor\n",
        "  def __init__(self, p, n):\n",
        "    assert isinstance(p, list), \"p doit être sous forme de liste de coefficients\"\n",
        "    assert isinstance(n, int), \"n doit être un entier\"\n",
        "\n",
        "    self.p = [p[i]%n for i in range(len(p))]\n",
        "    self.n = n\n",
        "  \n",
        "  def __neg__(self):\n",
        "    return PolynomeModRing([-k for k in self.p], self.n)\n",
        "\n",
        "  def __sub__(self, pq):\n",
        "    assert isinstance(pq, PolynomeModRing), \"k doit être un polynome\"\n",
        "    #assert self.n==pq.n, \"le modulus des deux polynômes doivent être identiques\"\n",
        "\n",
        "    return self+(-pq)\n",
        "\n",
        "  # Redéfinition de l'addition\n",
        "  def __add__(self, pq): \n",
        "    assert isinstance(pq, PolynomeModRing), \"k doit être un polynome\"\n",
        "    assert self.n==pq.n, \"le modulus des deux polynômes doivent être identiques\"\n",
        "\n",
        "    p = copy.copy(self)\n",
        "    q = copy.copy(pq)\n",
        "    if (p.size()<q.size()):\n",
        "      p.set([0]*(q.size()-p.size())+p.p)\n",
        "    elif (p.size()>q.size()):\n",
        "      q.set([0]*(p.size()-q.size())+q.p)\n",
        "\n",
        "    r = [(p.p[i]+q.p[i])%self.n for i in range(p.size())]\n",
        "\n",
        "    return PolynomeModRing(r, self.n)\n",
        "\n",
        "  # Redéfinition de la multiplication\n",
        "  def __mul__(self, pq):\n",
        "    assert isinstance(pq,int) or isinstance(pq, PolynomeModRing), \"q doit être un entier ou un polynôme\"\n",
        "  \n",
        "    if isinstance(pq, PolynomeModRing):\n",
        "      if pq.powerMax() == 0:\n",
        "        pq = pq.p[pq.size()-1]\n",
        "\n",
        "    if isinstance(pq, int):\n",
        "      r = [(self.p[i]*pq)%self.n for i in range(self.size())]\n",
        "      return PolynomeModRing(r, self.n)\n",
        "    \n",
        "    if isinstance(pq, PolynomeModRing):\n",
        "      assert self.n==pq.n, \"le modulus des deux polynômes doivent être identiques\"\n",
        "      \n",
        "      p = copy.copy(self)\n",
        "      q = copy.copy(pq)\n",
        "      if (p.size()<q.size()):\n",
        "        p.set([0]+p.p)\n",
        "      else:\n",
        "        q.set([0]+q.p)\n",
        "      \n",
        "      r = []\n",
        "      for i in range(q.size()):\n",
        "        r0 = (p*q.p[i])\n",
        "        r0.set(r0.p + [0]*(q.size()-1-i))\n",
        "        r.append(r0)\n",
        "      \n",
        "      tailles = [rk.size() for rk in r]\n",
        "      r2 = PolynomeModRing([0]*max(tailles),self.n)\n",
        "      for ri in r:\n",
        "        r2 += ri\n",
        "\n",
        "      r2.simplify()\n",
        "\n",
        "      return r2\n",
        "\n",
        "  # Redéfinition de la multiplication\n",
        "  def __floordiv__(self, pq):\n",
        "    assert isinstance(pq,int) or isinstance(pq, PolynomeModRing), \"q doit être un entier ou un polynôme\"\n",
        "  \n",
        "    if isinstance(pq, PolynomeModRing):\n",
        "      if pq.powerMax() == 0:\n",
        "        pq = pq.p[pq.size()-1]\n",
        "    \n",
        "    if isinstance(pq, int):\n",
        "      r = [(self.p[i]*inverseMod(pq, self.n))%self.n for i in range(self.size())]\n",
        "      print(r)\n",
        "      return PolynomeModRing(r, self.n).simplify()\n",
        "\n",
        "    if isinstance(pq, PolynomeModRing):\n",
        "      assert self.n==pq.n, \"le modulus des deux polynômes doivent être identiques\"\n",
        "\n",
        "      p = copy.copy(self)\n",
        "      q = copy.copy(pq)\n",
        "      if (p.size()<q.size()):\n",
        "        p.set([0]*(q.size()-p.size())+p.p)\n",
        "      elif (p.size()>q.size()):\n",
        "        q.set([0]*(p.size()-q.size())+q.p)\n",
        "      \n",
        "      first = True\n",
        "      r = PolynomeModRing([0], self.n)\n",
        "      while p.powerMax()>=q.powerMax():\n",
        "        rkPow = p.powerMax()-q.powerMax()\n",
        "        rkCoef = p.p[p.size()-p.powerMax()-1]*inverseMod(q.p[q.size()-q.powerMax()-1], self.n)%self.n\n",
        "        rk = PolynomeModRing([0]*(rkPow+1), self.n)\n",
        "        rk.p[rk.size()-rkPow-1] = rkCoef\n",
        "        if first:\n",
        "          first = False\n",
        "          r = PolynomeModRing([0]*(rkPow+1), self.n)\n",
        "        r.p[r.size()-rkPow-1] = rkCoef\n",
        "        p = p-(q*rk)\n",
        "      \n",
        "      return r\n",
        "\n",
        "  # Redéfinition de la puissance\n",
        "  def __pow__(self, k):\n",
        "    return expoRapide(self, k, self.n)\n",
        "\n",
        "  def powerMax(self):\n",
        "    i = 0\n",
        "    while self.size() > 1 and i<self.size()-1 and self.p[i]==0:\n",
        "      i+=1\n",
        "    return self.size()-1-i\n",
        "\n",
        "  def simplify(self):\n",
        "    while self.size() > 1 and self.p[0]==0:\n",
        "      self.set(self.p[1:])\n",
        "    return self\n",
        "  \n",
        "  def set(self, p):\n",
        "    self.p = p\n",
        "\n",
        "  def size(self):\n",
        "    return len(self.p)\n",
        "\n",
        "  def __str__(self):\n",
        "    return self.toString()\n",
        "\n",
        "  def toString(self):\n",
        "    #return str(self.p[len(p)-1])\n",
        "\n",
        "    if self.powerMax() == 0:\n",
        "      return \"(\"+str(self.p[self.size()-1])+\")\"\n",
        "\n",
        "    m = []\n",
        "    for k in range(self.size()):\n",
        "      if (self.p[k] != 0):\n",
        "        m.append((self.p[k],self.size()-1-k))\n",
        "    \n",
        "    return \"(\"+\" + \".join([str(m[i][0])+\"x^\"+str(m[i][1]) for i in range(len(m))])+\")\"\n",
        "\n",
        "print(\"Done\")"
      ],
      "execution_count": 0,
      "outputs": [
        {
          "output_type": "stream",
          "text": [
            "Done\n"
          ],
          "name": "stdout"
        }
      ]
    },
    {
      "cell_type": "markdown",
      "metadata": {
        "id": "7O7sMBIy06w4",
        "colab_type": "text"
      },
      "source": [
        "####**Test**"
      ]
    },
    {
      "cell_type": "code",
      "metadata": {
        "id": "2IDsxyE-LETN",
        "colab_type": "code",
        "outputId": "38967ab7-cb03-4fbc-fb1c-40107b78762c",
        "colab": {
          "base_uri": "https://localhost:8080/",
          "height": 219
        }
      },
      "source": [
        "n = 29\n",
        "p = [1, 0, 0, 0, 0, 0, 0, 0, 0, 0, 15]\n",
        "q = [-1, 0, 15]\n",
        "\n",
        "P = PolynomeModRing(p, n)\n",
        "Q = PolynomeModRing(q, n)\n",
        "\n",
        "R = P+Q\n",
        "print(\"Addition de deux polynômes P+Q :\", P,\"+\", Q,\"\\n=\", R)\n",
        "print(\"\")\n",
        "\n",
        "k = 2\n",
        "R = P*k\n",
        "print(\"Produit d'un polynôme et d'un entier P*2 :\",P,\"*\",k,\"\\n=\",R)\n",
        "print(\"\")\n",
        "\n",
        "R = P*Q\n",
        "print(\"Produit de deux polynômes P*Q :\", P, \"*\", Q, \"\\n=\",R)\n",
        "print(\"\")\n",
        "\n",
        "R = P//Q\n",
        "print(\"Division euclidienne de deux polynômes P//Q=R :\", P, \"//\", Q, \"\\n=\",R)"
      ],
      "execution_count": 0,
      "outputs": [
        {
          "output_type": "stream",
          "text": [
            "Addition de deux polynômes P+Q : (1x^10 + 15x^0) + (28x^2 + 15x^0) \n",
            "= (1x^10 + 28x^2 + 1x^0)\n",
            "\n",
            "Produit d'un polynôme et d'un entier P*2 : (1x^10 + 15x^0) * 2 \n",
            "= (2x^10 + 1x^0)\n",
            "\n",
            "Produit de deux polynômes P*Q : (1x^10 + 15x^0) * (28x^2 + 15x^0) \n",
            "= (28x^12 + 15x^10 + 14x^2 + 22x^0)\n",
            "\n",
            "Division euclidienne de deux polynômes P//Q=R : (1x^10 + 15x^0) // (28x^2 + 15x^0) \n",
            "= (28x^8 + 14x^6 + 7x^4 + 18x^2 + 9x^0)\n"
          ],
          "name": "stdout"
        }
      ]
    },
    {
      "cell_type": "markdown",
      "metadata": {
        "id": "c1dERKOJTiAq",
        "colab_type": "text"
      },
      "source": [
        "##**Question 2**"
      ]
    },
    {
      "cell_type": "markdown",
      "metadata": {
        "id": "uHoe0uZzTjtc",
        "colab_type": "text"
      },
      "source": [
        "###**Euclide Etendu dans $F_n[X]$**"
      ]
    },
    {
      "cell_type": "markdown",
      "metadata": {
        "id": "pmZnJkyrey5T",
        "colab_type": "text"
      },
      "source": [
        "####**Re-Définition**"
      ]
    },
    {
      "cell_type": "code",
      "metadata": {
        "id": "dolQskg7ewu1",
        "colab_type": "code",
        "colab": {}
      },
      "source": [
        "def euclideEtendu(a, b):\n",
        "  \n",
        "  r, r0 = a, b\n",
        "  u, v, u0, v0 = None, None, None, None\n",
        "\n",
        "  if isinstance(a, int):\n",
        "    u, v, u0, v0 = 1, 0, 0, 1\n",
        "  elif isinstance(a, PolynomeModRing):\n",
        "    u, v, u0, v0 = PolynomeModRing([1], a.n), PolynomeModRing([0], a.n), PolynomeModRing([0], a.n), PolynomeModRing([1], a.n)\n",
        "  else:\n",
        "    raise Exception(\"TypeError\",\"Cette fonction a été définie pour des paramètres de type entiers ou polynomes\")\n",
        "\n",
        "  while (isinstance(r0, int) and r0) or (isinstance(r0, PolynomeModRing) and (r0.powerMax()!=0 or r0.p[r0.size()-1])):\n",
        "    q = r//r0\n",
        "    r, u, v, r0, u0, v0 = r0, u0, v0, r-(q*r0), u-(q*u0), v-(q*v0)\n",
        "\n",
        "  return r, u, v"
      ],
      "execution_count": 0,
      "outputs": []
    },
    {
      "cell_type": "markdown",
      "metadata": {
        "id": "0hS23S2aT6nh",
        "colab_type": "text"
      },
      "source": [
        "####**Test**"
      ]
    },
    {
      "cell_type": "code",
      "metadata": {
        "id": "ZSrZbZU8UFDQ",
        "colab_type": "code",
        "outputId": "56901dcd-f0d7-4664-8a6e-a3183b2631db",
        "colab": {
          "base_uri": "https://localhost:8080/",
          "height": 146
        }
      },
      "source": [
        "R, U, V = euclideEtendu(P, Q)\n",
        "\n",
        "print(\"Le PGCD de\", P, \"et de\", Q, \"est :\",R)\n",
        "print(\"\")\n",
        "print(\"De plus : R=P*U+Q*V avec U =\",U,\" et V =\",V)\n",
        "print(\"\")\n",
        "print(\"Verification :\",P,\"*\",U,\"+\",Q,\"*\",V,\"\\n=\",P*U+Q*V)\n",
        "\n"
      ],
      "execution_count": 0,
      "outputs": [
        {
          "output_type": "stream",
          "text": [
            "[22, 0, 18]\n",
            "Le PGCD de (1x^10 + 15x^0) et de (28x^2 + 15x^0) est : (25)\n",
            "\n",
            "De plus : R=P*U+Q*V avec U = (1)  et V = (1x^8 + 15x^6 + 22x^4 + 11x^2 + 20x^0)\n",
            "\n",
            "Verification : (1x^10 + 15x^0) * (1) + (28x^2 + 15x^0) * (1x^8 + 15x^6 + 22x^4 + 11x^2 + 20x^0) \n",
            "= (25)\n"
          ],
          "name": "stdout"
        }
      ]
    },
    {
      "cell_type": "markdown",
      "metadata": {
        "id": "NDSIPSoT8Vhb",
        "colab_type": "text"
      },
      "source": [
        "####**Inverse Modulaire dans $F_n[X]$**"
      ]
    },
    {
      "cell_type": "markdown",
      "metadata": {
        "id": "WwUaJggI81eY",
        "colab_type": "text"
      },
      "source": [
        "####**Définition**"
      ]
    },
    {
      "cell_type": "code",
      "metadata": {
        "id": "9_aggLFl8_Gr",
        "colab_type": "code",
        "colab": {}
      },
      "source": [
        "def inverseMod(x, n):\n",
        "  r, u, _ = euclideEtendu(x, n)\n",
        "  \n",
        "  if isinstance(r, int):\n",
        "    assert r==1, \"x et n doivent être premiers entre eux\"\n",
        "\n",
        "  if isinstance(r, PolynomeModRing):\n",
        "    assert r.powerMax() and r.p[r.size()-1]==[1], \"x et n doivent être premiers entre eux\"\n",
        "\n",
        "  return u%n"
      ],
      "execution_count": 0,
      "outputs": []
    },
    {
      "cell_type": "markdown",
      "metadata": {
        "id": "G-0XWqDx8rUf",
        "colab_type": "text"
      },
      "source": [
        "####**Test**"
      ]
    },
    {
      "cell_type": "code",
      "metadata": {
        "id": "zDCKUlHZ9QKI",
        "colab_type": "code",
        "colab": {}
      },
      "source": [
        "#NE FONCTIONNE PAS\n",
        "\n",
        "#N = PolynomeModRing([n], n+1)\n",
        "\n",
        "#R = inverseMod(P, N)\n",
        "#print(\"L'inverse de\",P,\"modulo\",n,\"est :\",R)"
      ],
      "execution_count": 0,
      "outputs": []
    },
    {
      "cell_type": "markdown",
      "metadata": {
        "id": "YrwpNibFN8HW",
        "colab_type": "text"
      },
      "source": [
        "##**Question 2**"
      ]
    },
    {
      "cell_type": "markdown",
      "metadata": {
        "id": "J9XymndFN8vp",
        "colab_type": "text"
      },
      "source": [
        "###**Utilisation de cette implémentation dans la routine SubBytes d'AES**\n",
        "\n",
        "Cette partie du chiffrement AES consiste à effectuer des clalculs sur des bits sous forme de polynôme, il faudra donc utiliser pour chaque octet $PolynomeModRing([a_7,a_6,a_5,a_4,a_3,a_2,a_1, a_0], 2)$. Ensuite il sera donc possible d'effectuer les opérations sur ces polynômes afin d'obtenir la matrice de transformation afin de l'application sur chaque octet de l'entrée."
      ]
    }
  ]
}
